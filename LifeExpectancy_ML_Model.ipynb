{
  "cells": [
    {
      "cell_type": "markdown",
      "metadata": {
        "id": "view-in-github",
        "colab_type": "text"
      },
      "source": [
        "<a href=\"https://colab.research.google.com/github/nithin-srivatsa/LifeExpectancyPrediction_ML/blob/main/LifeExpectancy_ML_Model.ipynb\" target=\"_parent\"><img src=\"https://colab.research.google.com/assets/colab-badge.svg\" alt=\"Open In Colab\"/></a>"
      ]
    },
    {
      "cell_type": "markdown",
      "metadata": {
        "id": "E8A0yIDCtJLa"
      },
      "source": [
        "## Dataset\n",
        "The dataset we will be using is about Life expectancy of different countries. We will explore how immunization factors, mortality factors, economic factors, social factors and other health related factors affect Life expectancy of a country.\n",
        "\n",
        "There are two data files: \"LifeExpectancy_training_modified.csv\" and \"LifeExpectancy_test_modified.csv\"<br/>\n",
        "Both files have the following fields, except Life_expectancy which is not available in \"LifeExpectancy_test_modified.csv\"\n",
        "\n",
        "Features :\n",
        "- Year : from 2002 to 2015\n",
        "- Status : Developed or Developing status\n",
        "- Adult_Mortality : Adult Mortality Rates of both sexes (probability of dying between 15 and 60 years per 1000 population)\n",
        "- Alcohol : Alcohol, recorded per capita (15+) consumption (in litres of pure alcohol)\n",
        "- percentage_expenditure : Expenditure on health as a percentage of Gross Domestic Product per capita(%)\n",
        "- BMI: Average Body Mass Index of entire population\n",
        "- Total_expenditure: General government expenditure on health as a percentage of total government expenditure (%)\n",
        "- Diphtheria: Diphtheria tetanus toxoid and pertussis (DTP3) immunization coverage among 1-year-olds (%)\n",
        "- HIV_AIDS: Deaths per 1000 live births HIV/AIDS (0-4 years)\n",
        "- GDP: Gross Domestic Product per capita (in USD)\n",
        "- Population\n",
        "- Income_composition_of_resources: Human Development Index in terms of income composition of resources (index ranging from 0 to 1)\n",
        "- Schooling: Number of years of Schooling(years)\n",
        "- Health_Index: Health index\n",
        "\n",
        "Target:\n",
        "- Life_expectancy: Life Expectancy in age\n",
        "\n",
        "\n",
        "Training dataset, \"LifeExpectancy_training_modified.csv\", contains 1064 rows and 15 columns. This is the training set containing both of the features and the target.<br/>\n",
        "Test dataset, \"LifeExpectancy_test_modified.csv\", contains 458 rows and 14 columns. This is the test set which only contains the features.<br/>\n",
        "\n",
        "The goal is to predict Life expectancy based on the features."
      ]
    },
    {
      "cell_type": "code",
      "execution_count": null,
      "metadata": {
        "id": "xwWTXsa30LLu"
      },
      "outputs": [],
      "source": [
        "import numpy as np\n",
        "import pandas as pd"
      ]
    },
    {
      "cell_type": "code",
      "execution_count": null,
      "metadata": {
        "colab": {
          "base_uri": "https://localhost:8080/",
          "height": 143
        },
        "id": "u5oaCEzI0se8",
        "outputId": "cb8c2a10-1cdb-41e3-c493-070d1fbd506d"
      },
      "outputs": [
        {
          "output_type": "display_data",
          "data": {
            "text/plain": [
              "<IPython.core.display.HTML object>"
            ],
            "text/html": [
              "\n",
              "     <input type=\"file\" id=\"files-92407fd4-7fd9-45d2-aa07-822880d735a5\" name=\"files[]\" multiple disabled\n",
              "        style=\"border:none\" />\n",
              "     <output id=\"result-92407fd4-7fd9-45d2-aa07-822880d735a5\">\n",
              "      Upload widget is only available when the cell has been executed in the\n",
              "      current browser session. Please rerun this cell to enable.\n",
              "      </output>\n",
              "      <script>// Copyright 2017 Google LLC\n",
              "//\n",
              "// Licensed under the Apache License, Version 2.0 (the \"License\");\n",
              "// you may not use this file except in compliance with the License.\n",
              "// You may obtain a copy of the License at\n",
              "//\n",
              "//      http://www.apache.org/licenses/LICENSE-2.0\n",
              "//\n",
              "// Unless required by applicable law or agreed to in writing, software\n",
              "// distributed under the License is distributed on an \"AS IS\" BASIS,\n",
              "// WITHOUT WARRANTIES OR CONDITIONS OF ANY KIND, either express or implied.\n",
              "// See the License for the specific language governing permissions and\n",
              "// limitations under the License.\n",
              "\n",
              "/**\n",
              " * @fileoverview Helpers for google.colab Python module.\n",
              " */\n",
              "(function(scope) {\n",
              "function span(text, styleAttributes = {}) {\n",
              "  const element = document.createElement('span');\n",
              "  element.textContent = text;\n",
              "  for (const key of Object.keys(styleAttributes)) {\n",
              "    element.style[key] = styleAttributes[key];\n",
              "  }\n",
              "  return element;\n",
              "}\n",
              "\n",
              "// Max number of bytes which will be uploaded at a time.\n",
              "const MAX_PAYLOAD_SIZE = 100 * 1024;\n",
              "\n",
              "function _uploadFiles(inputId, outputId) {\n",
              "  const steps = uploadFilesStep(inputId, outputId);\n",
              "  const outputElement = document.getElementById(outputId);\n",
              "  // Cache steps on the outputElement to make it available for the next call\n",
              "  // to uploadFilesContinue from Python.\n",
              "  outputElement.steps = steps;\n",
              "\n",
              "  return _uploadFilesContinue(outputId);\n",
              "}\n",
              "\n",
              "// This is roughly an async generator (not supported in the browser yet),\n",
              "// where there are multiple asynchronous steps and the Python side is going\n",
              "// to poll for completion of each step.\n",
              "// This uses a Promise to block the python side on completion of each step,\n",
              "// then passes the result of the previous step as the input to the next step.\n",
              "function _uploadFilesContinue(outputId) {\n",
              "  const outputElement = document.getElementById(outputId);\n",
              "  const steps = outputElement.steps;\n",
              "\n",
              "  const next = steps.next(outputElement.lastPromiseValue);\n",
              "  return Promise.resolve(next.value.promise).then((value) => {\n",
              "    // Cache the last promise value to make it available to the next\n",
              "    // step of the generator.\n",
              "    outputElement.lastPromiseValue = value;\n",
              "    return next.value.response;\n",
              "  });\n",
              "}\n",
              "\n",
              "/**\n",
              " * Generator function which is called between each async step of the upload\n",
              " * process.\n",
              " * @param {string} inputId Element ID of the input file picker element.\n",
              " * @param {string} outputId Element ID of the output display.\n",
              " * @return {!Iterable<!Object>} Iterable of next steps.\n",
              " */\n",
              "function* uploadFilesStep(inputId, outputId) {\n",
              "  const inputElement = document.getElementById(inputId);\n",
              "  inputElement.disabled = false;\n",
              "\n",
              "  const outputElement = document.getElementById(outputId);\n",
              "  outputElement.innerHTML = '';\n",
              "\n",
              "  const pickedPromise = new Promise((resolve) => {\n",
              "    inputElement.addEventListener('change', (e) => {\n",
              "      resolve(e.target.files);\n",
              "    });\n",
              "  });\n",
              "\n",
              "  const cancel = document.createElement('button');\n",
              "  inputElement.parentElement.appendChild(cancel);\n",
              "  cancel.textContent = 'Cancel upload';\n",
              "  const cancelPromise = new Promise((resolve) => {\n",
              "    cancel.onclick = () => {\n",
              "      resolve(null);\n",
              "    };\n",
              "  });\n",
              "\n",
              "  // Wait for the user to pick the files.\n",
              "  const files = yield {\n",
              "    promise: Promise.race([pickedPromise, cancelPromise]),\n",
              "    response: {\n",
              "      action: 'starting',\n",
              "    }\n",
              "  };\n",
              "\n",
              "  cancel.remove();\n",
              "\n",
              "  // Disable the input element since further picks are not allowed.\n",
              "  inputElement.disabled = true;\n",
              "\n",
              "  if (!files) {\n",
              "    return {\n",
              "      response: {\n",
              "        action: 'complete',\n",
              "      }\n",
              "    };\n",
              "  }\n",
              "\n",
              "  for (const file of files) {\n",
              "    const li = document.createElement('li');\n",
              "    li.append(span(file.name, {fontWeight: 'bold'}));\n",
              "    li.append(span(\n",
              "        `(${file.type || 'n/a'}) - ${file.size} bytes, ` +\n",
              "        `last modified: ${\n",
              "            file.lastModifiedDate ? file.lastModifiedDate.toLocaleDateString() :\n",
              "                                    'n/a'} - `));\n",
              "    const percent = span('0% done');\n",
              "    li.appendChild(percent);\n",
              "\n",
              "    outputElement.appendChild(li);\n",
              "\n",
              "    const fileDataPromise = new Promise((resolve) => {\n",
              "      const reader = new FileReader();\n",
              "      reader.onload = (e) => {\n",
              "        resolve(e.target.result);\n",
              "      };\n",
              "      reader.readAsArrayBuffer(file);\n",
              "    });\n",
              "    // Wait for the data to be ready.\n",
              "    let fileData = yield {\n",
              "      promise: fileDataPromise,\n",
              "      response: {\n",
              "        action: 'continue',\n",
              "      }\n",
              "    };\n",
              "\n",
              "    // Use a chunked sending to avoid message size limits. See b/62115660.\n",
              "    let position = 0;\n",
              "    do {\n",
              "      const length = Math.min(fileData.byteLength - position, MAX_PAYLOAD_SIZE);\n",
              "      const chunk = new Uint8Array(fileData, position, length);\n",
              "      position += length;\n",
              "\n",
              "      const base64 = btoa(String.fromCharCode.apply(null, chunk));\n",
              "      yield {\n",
              "        response: {\n",
              "          action: 'append',\n",
              "          file: file.name,\n",
              "          data: base64,\n",
              "        },\n",
              "      };\n",
              "\n",
              "      let percentDone = fileData.byteLength === 0 ?\n",
              "          100 :\n",
              "          Math.round((position / fileData.byteLength) * 100);\n",
              "      percent.textContent = `${percentDone}% done`;\n",
              "\n",
              "    } while (position < fileData.byteLength);\n",
              "  }\n",
              "\n",
              "  // All done.\n",
              "  yield {\n",
              "    response: {\n",
              "      action: 'complete',\n",
              "    }\n",
              "  };\n",
              "}\n",
              "\n",
              "scope.google = scope.google || {};\n",
              "scope.google.colab = scope.google.colab || {};\n",
              "scope.google.colab._files = {\n",
              "  _uploadFiles,\n",
              "  _uploadFilesContinue,\n",
              "};\n",
              "})(self);\n",
              "</script> "
            ]
          },
          "metadata": {}
        },
        {
          "output_type": "stream",
          "name": "stdout",
          "text": [
            "Saving LifeExpectancy_test_modified.csv to LifeExpectancy_test_modified.csv\n",
            "Saving LifeExpectancy_training_modified.csv to LifeExpectancy_training_modified.csv\n",
            "Saving LifeExpectancy_ytest_modified.csv to LifeExpectancy_ytest_modified.csv\n"
          ]
        }
      ],
      "source": [
        "from google.colab import files\n",
        "uploaded = files.upload()\n"
      ]
    },
    {
      "cell_type": "code",
      "execution_count": null,
      "metadata": {
        "id": "4qDuqT2X0xJU"
      },
      "outputs": [],
      "source": [
        "import io"
      ]
    },
    {
      "cell_type": "code",
      "execution_count": null,
      "metadata": {
        "colab": {
          "base_uri": "https://localhost:8080/",
          "height": 226
        },
        "id": "viQgJ6uy03nd",
        "outputId": "ceece9dc-2fa3-4d97-ebd5-37fc3ec49ab0"
      },
      "outputs": [
        {
          "output_type": "execute_result",
          "data": {
            "text/plain": [
              "   Year      Status  Adult_Mortality  Alcohol  percentage_expenditure   BMI  \\\n",
              "0  2011  Developing               93     1.57              835.062683  64.0   \n",
              "1  2014  Developing              152     6.41              789.077295  32.4   \n",
              "2  2013   Developed               68    11.82               90.585012  56.6   \n",
              "3  2014   Developed              135     0.01                1.576409  59.9   \n",
              "4  2002  Developing              192     5.93               27.638103   2.2   \n",
              "\n",
              "   Total_expenditure  Diphtheria  HIV_AIDS         GDP  Population  \\\n",
              "0               7.12          81       0.1  8734.96530   4588368.0   \n",
              "1               4.12          99       0.1  5941.84710  68416772.0   \n",
              "2              11.14          95       0.1   554.71532   8479375.0   \n",
              "3               5.57          94       0.1    12.27733   1998979.0   \n",
              "4               3.70          96       0.7   296.54617   6473164.0   \n",
              "\n",
              "   Income_composition_of_resources  Schooling  Health_Index  Life_expectancy  \n",
              "0                            0.758       13.2      0.475880             75.0  \n",
              "1                            0.737       13.6      0.203275             74.6  \n",
              "2                            0.887       15.7      0.913847             81.1  \n",
              "3                            0.797       14.7      0.275401             74.8  \n",
              "4                            0.657       11.5      0.400974             71.4  "
            ],
            "text/html": [
              "\n",
              "  <div id=\"df-9eee6314-0534-45ac-b0fb-ab3289560868\" class=\"colab-df-container\">\n",
              "    <div>\n",
              "<style scoped>\n",
              "    .dataframe tbody tr th:only-of-type {\n",
              "        vertical-align: middle;\n",
              "    }\n",
              "\n",
              "    .dataframe tbody tr th {\n",
              "        vertical-align: top;\n",
              "    }\n",
              "\n",
              "    .dataframe thead th {\n",
              "        text-align: right;\n",
              "    }\n",
              "</style>\n",
              "<table border=\"1\" class=\"dataframe\">\n",
              "  <thead>\n",
              "    <tr style=\"text-align: right;\">\n",
              "      <th></th>\n",
              "      <th>Year</th>\n",
              "      <th>Status</th>\n",
              "      <th>Adult_Mortality</th>\n",
              "      <th>Alcohol</th>\n",
              "      <th>percentage_expenditure</th>\n",
              "      <th>BMI</th>\n",
              "      <th>Total_expenditure</th>\n",
              "      <th>Diphtheria</th>\n",
              "      <th>HIV_AIDS</th>\n",
              "      <th>GDP</th>\n",
              "      <th>Population</th>\n",
              "      <th>Income_composition_of_resources</th>\n",
              "      <th>Schooling</th>\n",
              "      <th>Health_Index</th>\n",
              "      <th>Life_expectancy</th>\n",
              "    </tr>\n",
              "  </thead>\n",
              "  <tbody>\n",
              "    <tr>\n",
              "      <th>0</th>\n",
              "      <td>2011</td>\n",
              "      <td>Developing</td>\n",
              "      <td>93</td>\n",
              "      <td>1.57</td>\n",
              "      <td>835.062683</td>\n",
              "      <td>64.0</td>\n",
              "      <td>7.12</td>\n",
              "      <td>81</td>\n",
              "      <td>0.1</td>\n",
              "      <td>8734.96530</td>\n",
              "      <td>4588368.0</td>\n",
              "      <td>0.758</td>\n",
              "      <td>13.2</td>\n",
              "      <td>0.475880</td>\n",
              "      <td>75.0</td>\n",
              "    </tr>\n",
              "    <tr>\n",
              "      <th>1</th>\n",
              "      <td>2014</td>\n",
              "      <td>Developing</td>\n",
              "      <td>152</td>\n",
              "      <td>6.41</td>\n",
              "      <td>789.077295</td>\n",
              "      <td>32.4</td>\n",
              "      <td>4.12</td>\n",
              "      <td>99</td>\n",
              "      <td>0.1</td>\n",
              "      <td>5941.84710</td>\n",
              "      <td>68416772.0</td>\n",
              "      <td>0.737</td>\n",
              "      <td>13.6</td>\n",
              "      <td>0.203275</td>\n",
              "      <td>74.6</td>\n",
              "    </tr>\n",
              "    <tr>\n",
              "      <th>2</th>\n",
              "      <td>2013</td>\n",
              "      <td>Developed</td>\n",
              "      <td>68</td>\n",
              "      <td>11.82</td>\n",
              "      <td>90.585012</td>\n",
              "      <td>56.6</td>\n",
              "      <td>11.14</td>\n",
              "      <td>95</td>\n",
              "      <td>0.1</td>\n",
              "      <td>554.71532</td>\n",
              "      <td>8479375.0</td>\n",
              "      <td>0.887</td>\n",
              "      <td>15.7</td>\n",
              "      <td>0.913847</td>\n",
              "      <td>81.1</td>\n",
              "    </tr>\n",
              "    <tr>\n",
              "      <th>3</th>\n",
              "      <td>2014</td>\n",
              "      <td>Developed</td>\n",
              "      <td>135</td>\n",
              "      <td>0.01</td>\n",
              "      <td>1.576409</td>\n",
              "      <td>59.9</td>\n",
              "      <td>5.57</td>\n",
              "      <td>94</td>\n",
              "      <td>0.1</td>\n",
              "      <td>12.27733</td>\n",
              "      <td>1998979.0</td>\n",
              "      <td>0.797</td>\n",
              "      <td>14.7</td>\n",
              "      <td>0.275401</td>\n",
              "      <td>74.8</td>\n",
              "    </tr>\n",
              "    <tr>\n",
              "      <th>4</th>\n",
              "      <td>2002</td>\n",
              "      <td>Developing</td>\n",
              "      <td>192</td>\n",
              "      <td>5.93</td>\n",
              "      <td>27.638103</td>\n",
              "      <td>2.2</td>\n",
              "      <td>3.70</td>\n",
              "      <td>96</td>\n",
              "      <td>0.7</td>\n",
              "      <td>296.54617</td>\n",
              "      <td>6473164.0</td>\n",
              "      <td>0.657</td>\n",
              "      <td>11.5</td>\n",
              "      <td>0.400974</td>\n",
              "      <td>71.4</td>\n",
              "    </tr>\n",
              "  </tbody>\n",
              "</table>\n",
              "</div>\n",
              "    <div class=\"colab-df-buttons\">\n",
              "\n",
              "  <div class=\"colab-df-container\">\n",
              "    <button class=\"colab-df-convert\" onclick=\"convertToInteractive('df-9eee6314-0534-45ac-b0fb-ab3289560868')\"\n",
              "            title=\"Convert this dataframe to an interactive table.\"\n",
              "            style=\"display:none;\">\n",
              "\n",
              "  <svg xmlns=\"http://www.w3.org/2000/svg\" height=\"24px\" viewBox=\"0 -960 960 960\">\n",
              "    <path d=\"M120-120v-720h720v720H120Zm60-500h600v-160H180v160Zm220 220h160v-160H400v160Zm0 220h160v-160H400v160ZM180-400h160v-160H180v160Zm440 0h160v-160H620v160ZM180-180h160v-160H180v160Zm440 0h160v-160H620v160Z\"/>\n",
              "  </svg>\n",
              "    </button>\n",
              "\n",
              "  <style>\n",
              "    .colab-df-container {\n",
              "      display:flex;\n",
              "      gap: 12px;\n",
              "    }\n",
              "\n",
              "    .colab-df-convert {\n",
              "      background-color: #E8F0FE;\n",
              "      border: none;\n",
              "      border-radius: 50%;\n",
              "      cursor: pointer;\n",
              "      display: none;\n",
              "      fill: #1967D2;\n",
              "      height: 32px;\n",
              "      padding: 0 0 0 0;\n",
              "      width: 32px;\n",
              "    }\n",
              "\n",
              "    .colab-df-convert:hover {\n",
              "      background-color: #E2EBFA;\n",
              "      box-shadow: 0px 1px 2px rgba(60, 64, 67, 0.3), 0px 1px 3px 1px rgba(60, 64, 67, 0.15);\n",
              "      fill: #174EA6;\n",
              "    }\n",
              "\n",
              "    .colab-df-buttons div {\n",
              "      margin-bottom: 4px;\n",
              "    }\n",
              "\n",
              "    [theme=dark] .colab-df-convert {\n",
              "      background-color: #3B4455;\n",
              "      fill: #D2E3FC;\n",
              "    }\n",
              "\n",
              "    [theme=dark] .colab-df-convert:hover {\n",
              "      background-color: #434B5C;\n",
              "      box-shadow: 0px 1px 3px 1px rgba(0, 0, 0, 0.15);\n",
              "      filter: drop-shadow(0px 1px 2px rgba(0, 0, 0, 0.3));\n",
              "      fill: #FFFFFF;\n",
              "    }\n",
              "  </style>\n",
              "\n",
              "    <script>\n",
              "      const buttonEl =\n",
              "        document.querySelector('#df-9eee6314-0534-45ac-b0fb-ab3289560868 button.colab-df-convert');\n",
              "      buttonEl.style.display =\n",
              "        google.colab.kernel.accessAllowed ? 'block' : 'none';\n",
              "\n",
              "      async function convertToInteractive(key) {\n",
              "        const element = document.querySelector('#df-9eee6314-0534-45ac-b0fb-ab3289560868');\n",
              "        const dataTable =\n",
              "          await google.colab.kernel.invokeFunction('convertToInteractive',\n",
              "                                                    [key], {});\n",
              "        if (!dataTable) return;\n",
              "\n",
              "        const docLinkHtml = 'Like what you see? Visit the ' +\n",
              "          '<a target=\"_blank\" href=https://colab.research.google.com/notebooks/data_table.ipynb>data table notebook</a>'\n",
              "          + ' to learn more about interactive tables.';\n",
              "        element.innerHTML = '';\n",
              "        dataTable['output_type'] = 'display_data';\n",
              "        await google.colab.output.renderOutput(dataTable, element);\n",
              "        const docLink = document.createElement('div');\n",
              "        docLink.innerHTML = docLinkHtml;\n",
              "        element.appendChild(docLink);\n",
              "      }\n",
              "    </script>\n",
              "  </div>\n",
              "\n",
              "\n",
              "<div id=\"df-c1180acc-10ed-4d37-8653-0f47ed1ec507\">\n",
              "  <button class=\"colab-df-quickchart\" onclick=\"quickchart('df-c1180acc-10ed-4d37-8653-0f47ed1ec507')\"\n",
              "            title=\"Suggest charts\"\n",
              "            style=\"display:none;\">\n",
              "\n",
              "<svg xmlns=\"http://www.w3.org/2000/svg\" height=\"24px\"viewBox=\"0 0 24 24\"\n",
              "     width=\"24px\">\n",
              "    <g>\n",
              "        <path d=\"M19 3H5c-1.1 0-2 .9-2 2v14c0 1.1.9 2 2 2h14c1.1 0 2-.9 2-2V5c0-1.1-.9-2-2-2zM9 17H7v-7h2v7zm4 0h-2V7h2v10zm4 0h-2v-4h2v4z\"/>\n",
              "    </g>\n",
              "</svg>\n",
              "  </button>\n",
              "\n",
              "<style>\n",
              "  .colab-df-quickchart {\n",
              "      --bg-color: #E8F0FE;\n",
              "      --fill-color: #1967D2;\n",
              "      --hover-bg-color: #E2EBFA;\n",
              "      --hover-fill-color: #174EA6;\n",
              "      --disabled-fill-color: #AAA;\n",
              "      --disabled-bg-color: #DDD;\n",
              "  }\n",
              "\n",
              "  [theme=dark] .colab-df-quickchart {\n",
              "      --bg-color: #3B4455;\n",
              "      --fill-color: #D2E3FC;\n",
              "      --hover-bg-color: #434B5C;\n",
              "      --hover-fill-color: #FFFFFF;\n",
              "      --disabled-bg-color: #3B4455;\n",
              "      --disabled-fill-color: #666;\n",
              "  }\n",
              "\n",
              "  .colab-df-quickchart {\n",
              "    background-color: var(--bg-color);\n",
              "    border: none;\n",
              "    border-radius: 50%;\n",
              "    cursor: pointer;\n",
              "    display: none;\n",
              "    fill: var(--fill-color);\n",
              "    height: 32px;\n",
              "    padding: 0;\n",
              "    width: 32px;\n",
              "  }\n",
              "\n",
              "  .colab-df-quickchart:hover {\n",
              "    background-color: var(--hover-bg-color);\n",
              "    box-shadow: 0 1px 2px rgba(60, 64, 67, 0.3), 0 1px 3px 1px rgba(60, 64, 67, 0.15);\n",
              "    fill: var(--button-hover-fill-color);\n",
              "  }\n",
              "\n",
              "  .colab-df-quickchart-complete:disabled,\n",
              "  .colab-df-quickchart-complete:disabled:hover {\n",
              "    background-color: var(--disabled-bg-color);\n",
              "    fill: var(--disabled-fill-color);\n",
              "    box-shadow: none;\n",
              "  }\n",
              "\n",
              "  .colab-df-spinner {\n",
              "    border: 2px solid var(--fill-color);\n",
              "    border-color: transparent;\n",
              "    border-bottom-color: var(--fill-color);\n",
              "    animation:\n",
              "      spin 1s steps(1) infinite;\n",
              "  }\n",
              "\n",
              "  @keyframes spin {\n",
              "    0% {\n",
              "      border-color: transparent;\n",
              "      border-bottom-color: var(--fill-color);\n",
              "      border-left-color: var(--fill-color);\n",
              "    }\n",
              "    20% {\n",
              "      border-color: transparent;\n",
              "      border-left-color: var(--fill-color);\n",
              "      border-top-color: var(--fill-color);\n",
              "    }\n",
              "    30% {\n",
              "      border-color: transparent;\n",
              "      border-left-color: var(--fill-color);\n",
              "      border-top-color: var(--fill-color);\n",
              "      border-right-color: var(--fill-color);\n",
              "    }\n",
              "    40% {\n",
              "      border-color: transparent;\n",
              "      border-right-color: var(--fill-color);\n",
              "      border-top-color: var(--fill-color);\n",
              "    }\n",
              "    60% {\n",
              "      border-color: transparent;\n",
              "      border-right-color: var(--fill-color);\n",
              "    }\n",
              "    80% {\n",
              "      border-color: transparent;\n",
              "      border-right-color: var(--fill-color);\n",
              "      border-bottom-color: var(--fill-color);\n",
              "    }\n",
              "    90% {\n",
              "      border-color: transparent;\n",
              "      border-bottom-color: var(--fill-color);\n",
              "    }\n",
              "  }\n",
              "</style>\n",
              "\n",
              "  <script>\n",
              "    async function quickchart(key) {\n",
              "      const quickchartButtonEl =\n",
              "        document.querySelector('#' + key + ' button');\n",
              "      quickchartButtonEl.disabled = true;  // To prevent multiple clicks.\n",
              "      quickchartButtonEl.classList.add('colab-df-spinner');\n",
              "      try {\n",
              "        const charts = await google.colab.kernel.invokeFunction(\n",
              "            'suggestCharts', [key], {});\n",
              "      } catch (error) {\n",
              "        console.error('Error during call to suggestCharts:', error);\n",
              "      }\n",
              "      quickchartButtonEl.classList.remove('colab-df-spinner');\n",
              "      quickchartButtonEl.classList.add('colab-df-quickchart-complete');\n",
              "    }\n",
              "    (() => {\n",
              "      let quickchartButtonEl =\n",
              "        document.querySelector('#df-c1180acc-10ed-4d37-8653-0f47ed1ec507 button');\n",
              "      quickchartButtonEl.style.display =\n",
              "        google.colab.kernel.accessAllowed ? 'block' : 'none';\n",
              "    })();\n",
              "  </script>\n",
              "</div>\n",
              "    </div>\n",
              "  </div>\n"
            ]
          },
          "metadata": {},
          "execution_count": 7
        }
      ],
      "source": [
        "df = pd.read_csv('LifeExpectancy_training_modified.csv')\n",
        "df.head()"
      ]
    },
    {
      "cell_type": "code",
      "execution_count": null,
      "metadata": {
        "colab": {
          "base_uri": "https://localhost:8080/"
        },
        "id": "P6sGMloxFc8E",
        "outputId": "98690d4d-1183-49c9-8ea3-3ef7f4513468"
      },
      "outputs": [
        {
          "output_type": "stream",
          "name": "stdout",
          "text": [
            "Basic Information:\n",
            "<class 'pandas.core.frame.DataFrame'>\n",
            "RangeIndex: 1064 entries, 0 to 1063\n",
            "Data columns (total 15 columns):\n",
            " #   Column                           Non-Null Count  Dtype  \n",
            "---  ------                           --------------  -----  \n",
            " 0   Year                             1064 non-null   int64  \n",
            " 1   Status                           1064 non-null   object \n",
            " 2   Adult_Mortality                  1064 non-null   int64  \n",
            " 3   Alcohol                          1064 non-null   float64\n",
            " 4   percentage_expenditure           1064 non-null   float64\n",
            " 5   BMI                              1064 non-null   float64\n",
            " 6   Total_expenditure                1064 non-null   float64\n",
            " 7   Diphtheria                       1064 non-null   int64  \n",
            " 8   HIV_AIDS                         1064 non-null   float64\n",
            " 9   GDP                              1064 non-null   float64\n",
            " 10  Population                       1064 non-null   float64\n",
            " 11  Income_composition_of_resources  1064 non-null   float64\n",
            " 12  Schooling                        1064 non-null   float64\n",
            " 13  Health_Index                     1064 non-null   float64\n",
            " 14  Life_expectancy                  1064 non-null   float64\n",
            "dtypes: float64(11), int64(3), object(1)\n",
            "memory usage: 124.8+ KB\n",
            "None\n",
            "\n",
            "Statistical Summary:\n",
            "              Year  Adult_Mortality      Alcohol  percentage_expenditure  \\\n",
            "count  1064.000000      1064.000000  1064.000000             1064.000000   \n",
            "mean   2008.476504       165.254699     4.481758              744.534514   \n",
            "std       3.631084       121.454744     4.010051             1859.210472   \n",
            "min    2002.000000         1.000000     0.010000                0.000000   \n",
            "25%    2006.000000        76.000000     0.782500               40.453148   \n",
            "50%    2009.000000       147.000000     3.765000              155.532615   \n",
            "75%    2012.000000       225.000000     7.330000              561.805569   \n",
            "max    2015.000000       723.000000    17.870000            18961.348600   \n",
            "\n",
            "               BMI  Total_expenditure   Diphtheria     HIV_AIDS  \\\n",
            "count  1064.000000        1064.000000  1064.000000  1064.000000   \n",
            "mean     38.830263           6.073600    84.570489     1.773590   \n",
            "std      20.055853           2.349615    20.860075     5.334429   \n",
            "min       2.100000           0.740000     4.000000     0.100000   \n",
            "25%      19.500000           4.497500    82.000000     0.100000   \n",
            "50%      45.100000           5.920000    92.500000     0.100000   \n",
            "75%      56.600000           7.692500    97.000000     0.700000   \n",
            "max      76.700000          13.730000    99.000000    50.600000   \n",
            "\n",
            "                 GDP    Population  Income_composition_of_resources  \\\n",
            "count    1064.000000  1.064000e+03                      1064.000000   \n",
            "mean     5943.452006  1.294371e+07                         0.635859   \n",
            "std     12292.125549  5.996053e+07                         0.181986   \n",
            "min         1.681350  3.400000e+01                         0.000000   \n",
            "25%       487.937890  1.825575e+05                         0.509000   \n",
            "50%      1729.648929  1.337250e+06                         0.679000   \n",
            "75%      5178.561948  7.402522e+06                         0.755000   \n",
            "max    119172.741800  1.293859e+09                         0.930000   \n",
            "\n",
            "         Schooling  Health_Index  Life_expectancy  \n",
            "count  1064.000000   1064.000000      1064.000000  \n",
            "mean     12.203102      0.503413        69.543421  \n",
            "std       2.798296      0.284615         8.870320  \n",
            "min       4.200000      0.000563        44.000000  \n",
            "25%      10.400000      0.264368        64.600000  \n",
            "50%      12.400000      0.497516        72.000000  \n",
            "75%      14.100000      0.748287        75.300000  \n",
            "max      20.600000      0.998401        89.000000  \n",
            "\n",
            "Missing Values:\n",
            "Year                               0\n",
            "Status                             0\n",
            "Adult_Mortality                    0\n",
            "Alcohol                            0\n",
            "percentage_expenditure             0\n",
            "BMI                                0\n",
            "Total_expenditure                  0\n",
            "Diphtheria                         0\n",
            "HIV_AIDS                           0\n",
            "GDP                                0\n",
            "Population                         0\n",
            "Income_composition_of_resources    0\n",
            "Schooling                          0\n",
            "Health_Index                       0\n",
            "Life_expectancy                    0\n",
            "dtype: int64\n"
          ]
        }
      ],
      "source": [
        "# Display basic information about the dataset\n",
        "import matplotlib.pyplot as plt\n",
        "import seaborn as sns\n",
        "print(\"Basic Information:\")\n",
        "print(df.info())\n",
        "\n",
        "# Display statistical summary of the dataset\n",
        "print(\"\\nStatistical Summary:\")\n",
        "print(df.describe())\n",
        "\n",
        "# Check for missing values\n",
        "print(\"\\nMissing Values:\")\n",
        "print(df.isnull().sum())\n"
      ]
    },
    {
      "cell_type": "markdown",
      "metadata": {
        "id": "kIRo3Da91IdF"
      },
      "source": [
        "## Data Exploration\n",
        "We can plot a histogram of the dataframe for the features except \"Status\" to understand their distributions. <br/>"
      ]
    },
    {
      "cell_type": "code",
      "execution_count": null,
      "metadata": {
        "colab": {
          "base_uri": "https://localhost:8080/",
          "height": 1000
        },
        "id": "iemQk82B3Nam",
        "outputId": "fae43483-b9e4-442f-a8cc-16b7294a7484"
      },
      "outputs": [
        {
          "output_type": "stream",
          "name": "stdout",
          "text": [
            "\n",
            "Distributions:\n"
          ]
        },
        {
          "output_type": "display_data",
          "data": {
            "text/plain": [
              "<Figure size 800x400 with 1 Axes>"
            ],
            "image/png": "[encoded data removed]"
          },
          "metadata": {}
        },
        {
          "output_type": "display_data",
          "data": {
            "text/plain": [
              "<Figure size 800x400 with 1 Axes>"
            ],
            "image/png": "[encoded data removed]"
          },
          "metadata": {}
        },
        {
          "output_type": "display_data",
          "data": {
            "text/plain": [
              "<Figure size 800x400 with 1 Axes>"
            ],
            "image/png": "[encoded data removed]"
          },
          "metadata": {}
        },
        {
          "output_type": "display_data",
          "data": {
            "text/plain": [
              "<Figure size 800x400 with 1 Axes>"
            ],
            "image/png": "[encoded data removed]"
          },
          "metadata": {}
        },
        {
          "output_type": "display_data",
          "data": {
            "text/plain": [
              "<Figure size 800x400 with 1 Axes>"
            ],
            "image/png": "[encoded data removed]"
          },
          "metadata": {}
        },
        {
          "output_type": "display_data",
          "data": {
            "text/plain": [
              "<Figure size 800x400 with 1 Axes>"
            ],
            "image/png": "[encoded data removed]"
          },
          "metadata": {}
        },
        {
          "output_type": "display_data",
          "data": {
            "text/plain": [
              "<Figure size 800x400 with 1 Axes>"
            ],
            "image/png": "[encoded data removed]"
          },
          "metadata": {}
        },
        {
          "output_type": "display_data",
          "data": {
            "text/plain": [
              "<Figure size 800x400 with 1 Axes>"
            ],
            "image/png": "[encoded data removed]"
          },
          "metadata": {}
        },
        {
          "output_type": "display_data",
          "data": {
            "text/plain": [
              "<Figure size 800x400 with 1 Axes>"
            ],
            "image/png": "[encoded data removed]"
          },
          "metadata": {}
        },
        {
          "output_type": "display_data",
          "data": {
            "text/plain": [
              "<Figure size 800x400 with 1 Axes>"
            ],
            "image/png": "[encoded data removed]"
          },
          "metadata": {}
        },
        {
          "output_type": "display_data",
          "data": {
            "text/plain": [
              "<Figure size 800x400 with 1 Axes>"
            ],
            "image/png": "[encoded data removed]"
          },
          "metadata": {}
        },
        {
          "output_type": "display_data",
          "data": {
            "text/plain": [
              "<Figure size 800x400 with 1 Axes>"
            ],
            "image/png": "[encoded data removed]"
          },
          "metadata": {}
        },
        {
          "output_type": "display_data",
          "data": {
            "text/plain": [
              "<Figure size 800x400 with 1 Axes>"
            ],
            "image/png": "[encoded data removed]"
          },
          "metadata": {}
        },
        {
          "output_type": "display_data",
          "data": {
            "text/plain": [
              "<Figure size 800x400 with 1 Axes>"
            ],
            "image/png": "[encoded data removed]"
          },
          "metadata": {}
        },
        {
          "output_type": "display_data",
          "data": {
            "text/plain": [
              "<Figure size 800x400 with 1 Axes>"
            ],
            "image/png": "[encoded data removed]"
          },
          "metadata": {}
        }
      ],
      "source": [
        "### WRITE CODE TO OBTAIN AND DISPLAY HISTOGRAMS ###\n",
        "# Distribution of each feature and the target variable\n",
        "print(\"\\nDistributions:\")\n",
        "for column in df.columns:\n",
        "    plt.figure(figsize=(8, 4))\n",
        "    if df[column].dtype == 'object':  # Categorical data\n",
        "        sns.countplot(x=df[column])\n",
        "    else:  # Numerical data\n",
        "        sns.histplot(df[column], kde=True)\n",
        "    plt.title(f'Distribution of {column}')\n",
        "    plt.show()"
      ]
    },
    {
      "cell_type": "markdown",
      "metadata": {
        "id": "_XD0AGPM5eaD"
      },
      "source": [
        "Some inferences from the distribution\n",
        "Some variables are postive-skewed: Adult_Mortality, Alcohol, percentage_expenditure, HIV/AIDS, GDP, Population. <br>\n",
        "Diphtheria is negative-skewed."
      ]
    },
    {
      "cell_type": "markdown",
      "metadata": {
        "id": "xmq41MOV9Z8d"
      },
      "source": [
        "Compute the correlation matrix to get an understanding of the correlation between life_expectancy and the other features.<br/>"
      ]
    },
    {
      "cell_type": "code",
      "execution_count": null,
      "metadata": {
        "colab": {
          "base_uri": "https://localhost:8080/",
          "height": 476
        },
        "id": "WmuZTzx29bkO",
        "outputId": "93f53ecc-4b4c-428b-b70c-20adc4c81a6f"
      },
      "outputs": [
        {
          "output_type": "execute_result",
          "data": {
            "text/plain": [
              "                                 Adult_Mortality   Alcohol  \\\n",
              "Adult_Mortality                         1.000000 -0.219509   \n",
              "Alcohol                                -0.219509  1.000000   \n",
              "percentage_expenditure                 -0.245144  0.420887   \n",
              "BMI                                    -0.379248  0.354946   \n",
              "Total_expenditure                      -0.140426  0.237057   \n",
              "Diphtheria                             -0.224493  0.248199   \n",
              "HIV_AIDS                                0.501118 -0.060254   \n",
              "GDP                                    -0.266366  0.444423   \n",
              "Population                             -0.014055 -0.018267   \n",
              "Income_composition_of_resources        -0.488337  0.571995   \n",
              "Schooling                              -0.463605  0.605136   \n",
              "Health_Index                           -0.037935  0.033899   \n",
              "Life_expectancy                        -0.698473  0.439279   \n",
              "\n",
              "                                 percentage_expenditure       BMI  \\\n",
              "Adult_Mortality                               -0.245144 -0.379248   \n",
              "Alcohol                                        0.420887  0.354946   \n",
              "percentage_expenditure                         1.000000  0.227755   \n",
              "BMI                                            0.227755  1.000000   \n",
              "Total_expenditure                              0.191810  0.182665   \n",
              "Diphtheria                                     0.149074  0.197733   \n",
              "HIV_AIDS                                      -0.104598 -0.231807   \n",
              "GDP                                            0.956792  0.246639   \n",
              "Population                                    -0.014828 -0.061193   \n",
              "Income_composition_of_resources                0.407670  0.545933   \n",
              "Schooling                                      0.415462  0.561119   \n",
              "Health_Index                                  -0.008822  0.008316   \n",
              "Life_expectancy                                0.412576  0.557677   \n",
              "\n",
              "                                 Total_expenditure  Diphtheria  HIV_AIDS  \\\n",
              "Adult_Mortality                          -0.140426   -0.224493  0.501118   \n",
              "Alcohol                                   0.237057    0.248199 -0.060254   \n",
              "percentage_expenditure                    0.191810    0.149074 -0.104598   \n",
              "BMI                                       0.182665    0.197733 -0.231807   \n",
              "Total_expenditure                         1.000000    0.161840  0.012584   \n",
              "Diphtheria                                0.161840    1.000000 -0.170364   \n",
              "HIV_AIDS                                  0.012584   -0.170364  1.000000   \n",
              "GDP                                       0.190730    0.171035 -0.120317   \n",
              "Population                               -0.071048   -0.019880 -0.030525   \n",
              "Income_composition_of_resources           0.201951    0.320582 -0.284304   \n",
              "Schooling                                 0.254128    0.362596 -0.246180   \n",
              "Health_Index                              0.021584   -0.009137 -0.016758   \n",
              "Life_expectancy                           0.211976    0.366748 -0.588284   \n",
              "\n",
              "                                      GDP  Population  \\\n",
              "Adult_Mortality                 -0.266366   -0.014055   \n",
              "Alcohol                          0.444423   -0.018267   \n",
              "percentage_expenditure           0.956792   -0.014828   \n",
              "BMI                              0.246639   -0.061193   \n",
              "Total_expenditure                0.190730   -0.071048   \n",
              "Diphtheria                       0.171035   -0.019880   \n",
              "HIV_AIDS                        -0.120317   -0.030525   \n",
              "GDP                              1.000000   -0.016040   \n",
              "Population                      -0.016040    1.000000   \n",
              "Income_composition_of_resources  0.454385    0.003342   \n",
              "Schooling                        0.461627   -0.020537   \n",
              "Health_Index                    -0.013335   -0.005315   \n",
              "Life_expectancy                  0.445212   -0.009788   \n",
              "\n",
              "                                 Income_composition_of_resources  Schooling  \\\n",
              "Adult_Mortality                                        -0.488337  -0.463605   \n",
              "Alcohol                                                 0.571995   0.605136   \n",
              "percentage_expenditure                                  0.407670   0.415462   \n",
              "BMI                                                     0.545933   0.561119   \n",
              "Total_expenditure                                       0.201951   0.254128   \n",
              "Diphtheria                                              0.320582   0.362596   \n",
              "HIV_AIDS                                               -0.284304  -0.246180   \n",
              "GDP                                                     0.454385   0.461627   \n",
              "Population                                              0.003342  -0.020537   \n",
              "Income_composition_of_resources                         1.000000   0.806302   \n",
              "Schooling                                               0.806302   1.000000   \n",
              "Health_Index                                            0.014219   0.010093   \n",
              "Life_expectancy                                         0.756515   0.755132   \n",
              "\n",
              "                                 Health_Index  Life_expectancy  \n",
              "Adult_Mortality                     -0.037935        -0.698473  \n",
              "Alcohol                              0.033899         0.439279  \n",
              "percentage_expenditure              -0.008822         0.412576  \n",
              "BMI                                  0.008316         0.557677  \n",
              "Total_expenditure                    0.021584         0.211976  \n",
              "Diphtheria                          -0.009137         0.366748  \n",
              "HIV_AIDS                            -0.016758        -0.588284  \n",
              "GDP                                 -0.013335         0.445212  \n",
              "Population                          -0.005315        -0.009788  \n",
              "Income_composition_of_resources      0.014219         0.756515  \n",
              "Schooling                            0.010093         0.755132  \n",
              "Health_Index                         1.000000         0.048112  \n",
              "Life_expectancy                      0.048112         1.000000  "
            ],
            "text/html": [
              "\n",
              "  <div id=\"df-377abe72-98d0-4640-b5f7-faa3e1e81465\" class=\"colab-df-container\">\n",
              "    <div>\n",
              "<style scoped>\n",
              "    .dataframe tbody tr th:only-of-type {\n",
              "        vertical-align: middle;\n",
              "    }\n",
              "\n",
              "    .dataframe tbody tr th {\n",
              "        vertical-align: top;\n",
              "    }\n",
              "\n",
              "    .dataframe thead th {\n",
              "        text-align: right;\n",
              "    }\n",
              "</style>\n",
              "<table border=\"1\" class=\"dataframe\">\n",
              "  <thead>\n",
              "    <tr style=\"text-align: right;\">\n",
              "      <th></th>\n",
              "      <th>Adult_Mortality</th>\n",
              "      <th>Alcohol</th>\n",
              "      <th>percentage_expenditure</th>\n",
              "      <th>BMI</th>\n",
              "      <th>Total_expenditure</th>\n",
              "      <th>Diphtheria</th>\n",
              "      <th>HIV_AIDS</th>\n",
              "      <th>GDP</th>\n",
              "      <th>Population</th>\n",
              "      <th>Income_composition_of_resources</th>\n",
              "      <th>Schooling</th>\n",
              "      <th>Health_Index</th>\n",
              "      <th>Life_expectancy</th>\n",
              "    </tr>\n",
              "  </thead>\n",
              "  <tbody>\n",
              "    <tr>\n",
              "      <th>Adult_Mortality</th>\n",
              "      <td>1.000000</td>\n",
              "      <td>-0.219509</td>\n",
              "      <td>-0.245144</td>\n",
              "      <td>-0.379248</td>\n",
              "      <td>-0.140426</td>\n",
              "      <td>-0.224493</td>\n",
              "      <td>0.501118</td>\n",
              "      <td>-0.266366</td>\n",
              "      <td>-0.014055</td>\n",
              "      <td>-0.488337</td>\n",
              "      <td>-0.463605</td>\n",
              "      <td>-0.037935</td>\n",
              "      <td>-0.698473</td>\n",
              "    </tr>\n",
              "    <tr>\n",
              "      <th>Alcohol</th>\n",
              "      <td>-0.219509</td>\n",
              "      <td>1.000000</td>\n",
              "      <td>0.420887</td>\n",
              "      <td>0.354946</td>\n",
              "      <td>0.237057</td>\n",
              "      <td>0.248199</td>\n",
              "      <td>-0.060254</td>\n",
              "      <td>0.444423</td>\n",
              "      <td>-0.018267</td>\n",
              "      <td>0.571995</td>\n",
              "      <td>0.605136</td>\n",
              "      <td>0.033899</td>\n",
              "      <td>0.439279</td>\n",
              "    </tr>\n",
              "    <tr>\n",
              "      <th>percentage_expenditure</th>\n",
              "      <td>-0.245144</td>\n",
              "      <td>0.420887</td>\n",
              "      <td>1.000000</td>\n",
              "      <td>0.227755</td>\n",
              "      <td>0.191810</td>\n",
              "      <td>0.149074</td>\n",
              "      <td>-0.104598</td>\n",
              "      <td>0.956792</td>\n",
              "      <td>-0.014828</td>\n",
              "      <td>0.407670</td>\n",
              "      <td>0.415462</td>\n",
              "      <td>-0.008822</td>\n",
              "      <td>0.412576</td>\n",
              "    </tr>\n",
              "    <tr>\n",
              "      <th>BMI</th>\n",
              "      <td>-0.379248</td>\n",
              "      <td>0.354946</td>\n",
              "      <td>0.227755</td>\n",
              "      <td>1.000000</td>\n",
              "      <td>0.182665</td>\n",
              "      <td>0.197733</td>\n",
              "      <td>-0.231807</td>\n",
              "      <td>0.246639</td>\n",
              "      <td>-0.061193</td>\n",
              "      <td>0.545933</td>\n",
              "      <td>0.561119</td>\n",
              "      <td>0.008316</td>\n",
              "      <td>0.557677</td>\n",
              "    </tr>\n",
              "    <tr>\n",
              "      <th>Total_expenditure</th>\n",
              "      <td>-0.140426</td>\n",
              "      <td>0.237057</td>\n",
              "      <td>0.191810</td>\n",
              "      <td>0.182665</td>\n",
              "      <td>1.000000</td>\n",
              "      <td>0.161840</td>\n",
              "      <td>0.012584</td>\n",
              "      <td>0.190730</td>\n",
              "      <td>-0.071048</td>\n",
              "      <td>0.201951</td>\n",
              "      <td>0.254128</td>\n",
              "      <td>0.021584</td>\n",
              "      <td>0.211976</td>\n",
              "    </tr>\n",
              "    <tr>\n",
              "      <th>Diphtheria</th>\n",
              "      <td>-0.224493</td>\n",
              "      <td>0.248199</td>\n",
              "      <td>0.149074</td>\n",
              "      <td>0.197733</td>\n",
              "      <td>0.161840</td>\n",
              "      <td>1.000000</td>\n",
              "      <td>-0.170364</td>\n",
              "      <td>0.171035</td>\n",
              "      <td>-0.019880</td>\n",
              "      <td>0.320582</td>\n",
              "      <td>0.362596</td>\n",
              "      <td>-0.009137</td>\n",
              "      <td>0.366748</td>\n",
              "    </tr>\n",
              "    <tr>\n",
              "      <th>HIV_AIDS</th>\n",
              "      <td>0.501118</td>\n",
              "      <td>-0.060254</td>\n",
              "      <td>-0.104598</td>\n",
              "      <td>-0.231807</td>\n",
              "      <td>0.012584</td>\n",
              "      <td>-0.170364</td>\n",
              "      <td>1.000000</td>\n",
              "      <td>-0.120317</td>\n",
              "      <td>-0.030525</td>\n",
              "      <td>-0.284304</td>\n",
              "      <td>-0.246180</td>\n",
              "      <td>-0.016758</td>\n",
              "      <td>-0.588284</td>\n",
              "    </tr>\n",
              "    <tr>\n",
              "      <th>GDP</th>\n",
              "      <td>-0.266366</td>\n",
              "      <td>0.444423</td>\n",
              "      <td>0.956792</td>\n",
              "      <td>0.246639</td>\n",
              "      <td>0.190730</td>\n",
              "      <td>0.171035</td>\n",
              "      <td>-0.120317</td>\n",
              "      <td>1.000000</td>\n",
              "      <td>-0.016040</td>\n",
              "      <td>0.454385</td>\n",
              "      <td>0.461627</td>\n",
              "      <td>-0.013335</td>\n",
              "      <td>0.445212</td>\n",
              "    </tr>\n",
              "    <tr>\n",
              "      <th>Population</th>\n",
              "      <td>-0.014055</td>\n",
              "      <td>-0.018267</td>\n",
              "      <td>-0.014828</td>\n",
              "      <td>-0.061193</td>\n",
              "      <td>-0.071048</td>\n",
              "      <td>-0.019880</td>\n",
              "      <td>-0.030525</td>\n",
              "      <td>-0.016040</td>\n",
              "      <td>1.000000</td>\n",
              "      <td>0.003342</td>\n",
              "      <td>-0.020537</td>\n",
              "      <td>-0.005315</td>\n",
              "      <td>-0.009788</td>\n",
              "    </tr>\n",
              "    <tr>\n",
              "      <th>Income_composition_of_resources</th>\n",
              "      <td>-0.488337</td>\n",
              "      <td>0.571995</td>\n",
              "      <td>0.407670</td>\n",
              "      <td>0.545933</td>\n",
              "      <td>0.201951</td>\n",
              "      <td>0.320582</td>\n",
              "      <td>-0.284304</td>\n",
              "      <td>0.454385</td>\n",
              "      <td>0.003342</td>\n",
              "      <td>1.000000</td>\n",
              "      <td>0.806302</td>\n",
              "      <td>0.014219</td>\n",
              "      <td>0.756515</td>\n",
              "    </tr>\n",
              "    <tr>\n",
              "      <th>Schooling</th>\n",
              "      <td>-0.463605</td>\n",
              "      <td>0.605136</td>\n",
              "      <td>0.415462</td>\n",
              "      <td>0.561119</td>\n",
              "      <td>0.254128</td>\n",
              "      <td>0.362596</td>\n",
              "      <td>-0.246180</td>\n",
              "      <td>0.461627</td>\n",
              "      <td>-0.020537</td>\n",
              "      <td>0.806302</td>\n",
              "      <td>1.000000</td>\n",
              "      <td>0.010093</td>\n",
              "      <td>0.755132</td>\n",
              "    </tr>\n",
              "    <tr>\n",
              "      <th>Health_Index</th>\n",
              "      <td>-0.037935</td>\n",
              "      <td>0.033899</td>\n",
              "      <td>-0.008822</td>\n",
              "      <td>0.008316</td>\n",
              "      <td>0.021584</td>\n",
              "      <td>-0.009137</td>\n",
              "      <td>-0.016758</td>\n",
              "      <td>-0.013335</td>\n",
              "      <td>-0.005315</td>\n",
              "      <td>0.014219</td>\n",
              "      <td>0.010093</td>\n",
              "      <td>1.000000</td>\n",
              "      <td>0.048112</td>\n",
              "    </tr>\n",
              "    <tr>\n",
              "      <th>Life_expectancy</th>\n",
              "      <td>-0.698473</td>\n",
              "      <td>0.439279</td>\n",
              "      <td>0.412576</td>\n",
              "      <td>0.557677</td>\n",
              "      <td>0.211976</td>\n",
              "      <td>0.366748</td>\n",
              "      <td>-0.588284</td>\n",
              "      <td>0.445212</td>\n",
              "      <td>-0.009788</td>\n",
              "      <td>0.756515</td>\n",
              "      <td>0.755132</td>\n",
              "      <td>0.048112</td>\n",
              "      <td>1.000000</td>\n",
              "    </tr>\n",
              "  </tbody>\n",
              "</table>\n",
              "</div>\n",
              "    <div class=\"colab-df-buttons\">\n",
              "\n",
              "  <div class=\"colab-df-container\">\n",
              "    <button class=\"colab-df-convert\" onclick=\"convertToInteractive('df-377abe72-98d0-4640-b5f7-faa3e1e81465')\"\n",
              "            title=\"Convert this dataframe to an interactive table.\"\n",
              "            style=\"display:none;\">\n",
              "\n",
              "  <svg xmlns=\"http://www.w3.org/2000/svg\" height=\"24px\" viewBox=\"0 -960 960 960\">\n",
              "    <path d=\"M120-120v-720h720v720H120Zm60-500h600v-160H180v160Zm220 220h160v-160H400v160Zm0 220h160v-160H400v160ZM180-400h160v-160H180v160Zm440 0h160v-160H620v160ZM180-180h160v-160H180v160Zm440 0h160v-160H620v160Z\"/>\n",
              "  </svg>\n",
              "    </button>\n",
              "\n",
              "  <style>\n",
              "    .colab-df-container {\n",
              "      display:flex;\n",
              "      gap: 12px;\n",
              "    }\n",
              "\n",
              "    .colab-df-convert {\n",
              "      background-color: #E8F0FE;\n",
              "      border: none;\n",
              "      border-radius: 50%;\n",
              "      cursor: pointer;\n",
              "      display: none;\n",
              "      fill: #1967D2;\n",
              "      height: 32px;\n",
              "      padding: 0 0 0 0;\n",
              "      width: 32px;\n",
              "    }\n",
              "\n",
              "    .colab-df-convert:hover {\n",
              "      background-color: #E2EBFA;\n",
              "      box-shadow: 0px 1px 2px rgba(60, 64, 67, 0.3), 0px 1px 3px 1px rgba(60, 64, 67, 0.15);\n",
              "      fill: #174EA6;\n",
              "    }\n",
              "\n",
              "    .colab-df-buttons div {\n",
              "      margin-bottom: 4px;\n",
              "    }\n",
              "\n",
              "    [theme=dark] .colab-df-convert {\n",
              "      background-color: #3B4455;\n",
              "      fill: #D2E3FC;\n",
              "    }\n",
              "\n",
              "    [theme=dark] .colab-df-convert:hover {\n",
              "      background-color: #434B5C;\n",
              "      box-shadow: 0px 1px 3px 1px rgba(0, 0, 0, 0.15);\n",
              "      filter: drop-shadow(0px 1px 2px rgba(0, 0, 0, 0.3));\n",
              "      fill: #FFFFFF;\n",
              "    }\n",
              "  </style>\n",
              "\n",
              "    <script>\n",
              "      const buttonEl =\n",
              "        document.querySelector('#df-377abe72-98d0-4640-b5f7-faa3e1e81465 button.colab-df-convert');\n",
              "      buttonEl.style.display =\n",
              "        google.colab.kernel.accessAllowed ? 'block' : 'none';\n",
              "\n",
              "      async function convertToInteractive(key) {\n",
              "        const element = document.querySelector('#df-377abe72-98d0-4640-b5f7-faa3e1e81465');\n",
              "        const dataTable =\n",
              "          await google.colab.kernel.invokeFunction('convertToInteractive',\n",
              "                                                    [key], {});\n",
              "        if (!dataTable) return;\n",
              "\n",
              "        const docLinkHtml = 'Like what you see? Visit the ' +\n",
              "          '<a target=\"_blank\" href=https://colab.research.google.com/notebooks/data_table.ipynb>data table notebook</a>'\n",
              "          + ' to learn more about interactive tables.';\n",
              "        element.innerHTML = '';\n",
              "        dataTable['output_type'] = 'display_data';\n",
              "        await google.colab.output.renderOutput(dataTable, element);\n",
              "        const docLink = document.createElement('div');\n",
              "        docLink.innerHTML = docLinkHtml;\n",
              "        element.appendChild(docLink);\n",
              "      }\n",
              "    </script>\n",
              "  </div>\n",
              "\n",
              "\n",
              "<div id=\"df-83277d6b-f326-4d27-b6d6-7c70e3fe5246\">\n",
              "  <button class=\"colab-df-quickchart\" onclick=\"quickchart('df-83277d6b-f326-4d27-b6d6-7c70e3fe5246')\"\n",
              "            title=\"Suggest charts\"\n",
              "            style=\"display:none;\">\n",
              "\n",
              "<svg xmlns=\"http://www.w3.org/2000/svg\" height=\"24px\"viewBox=\"0 0 24 24\"\n",
              "     width=\"24px\">\n",
              "    <g>\n",
              "        <path d=\"M19 3H5c-1.1 0-2 .9-2 2v14c0 1.1.9 2 2 2h14c1.1 0 2-.9 2-2V5c0-1.1-.9-2-2-2zM9 17H7v-7h2v7zm4 0h-2V7h2v10zm4 0h-2v-4h2v4z\"/>\n",
              "    </g>\n",
              "</svg>\n",
              "  </button>\n",
              "\n",
              "<style>\n",
              "  .colab-df-quickchart {\n",
              "      --bg-color: #E8F0FE;\n",
              "      --fill-color: #1967D2;\n",
              "      --hover-bg-color: #E2EBFA;\n",
              "      --hover-fill-color: #174EA6;\n",
              "      --disabled-fill-color: #AAA;\n",
              "      --disabled-bg-color: #DDD;\n",
              "  }\n",
              "\n",
              "  [theme=dark] .colab-df-quickchart {\n",
              "      --bg-color: #3B4455;\n",
              "      --fill-color: #D2E3FC;\n",
              "      --hover-bg-color: #434B5C;\n",
              "      --hover-fill-color: #FFFFFF;\n",
              "      --disabled-bg-color: #3B4455;\n",
              "      --disabled-fill-color: #666;\n",
              "  }\n",
              "\n",
              "  .colab-df-quickchart {\n",
              "    background-color: var(--bg-color);\n",
              "    border: none;\n",
              "    border-radius: 50%;\n",
              "    cursor: pointer;\n",
              "    display: none;\n",
              "    fill: var(--fill-color);\n",
              "    height: 32px;\n",
              "    padding: 0;\n",
              "    width: 32px;\n",
              "  }\n",
              "\n",
              "  .colab-df-quickchart:hover {\n",
              "    background-color: var(--hover-bg-color);\n",
              "    box-shadow: 0 1px 2px rgba(60, 64, 67, 0.3), 0 1px 3px 1px rgba(60, 64, 67, 0.15);\n",
              "    fill: var(--button-hover-fill-color);\n",
              "  }\n",
              "\n",
              "  .colab-df-quickchart-complete:disabled,\n",
              "  .colab-df-quickchart-complete:disabled:hover {\n",
              "    background-color: var(--disabled-bg-color);\n",
              "    fill: var(--disabled-fill-color);\n",
              "    box-shadow: none;\n",
              "  }\n",
              "\n",
              "  .colab-df-spinner {\n",
              "    border: 2px solid var(--fill-color);\n",
              "    border-color: transparent;\n",
              "    border-bottom-color: var(--fill-color);\n",
              "    animation:\n",
              "      spin 1s steps(1) infinite;\n",
              "  }\n",
              "\n",
              "  @keyframes spin {\n",
              "    0% {\n",
              "      border-color: transparent;\n",
              "      border-bottom-color: var(--fill-color);\n",
              "      border-left-color: var(--fill-color);\n",
              "    }\n",
              "    20% {\n",
              "      border-color: transparent;\n",
              "      border-left-color: var(--fill-color);\n",
              "      border-top-color: var(--fill-color);\n",
              "    }\n",
              "    30% {\n",
              "      border-color: transparent;\n",
              "      border-left-color: var(--fill-color);\n",
              "      border-top-color: var(--fill-color);\n",
              "      border-right-color: var(--fill-color);\n",
              "    }\n",
              "    40% {\n",
              "      border-color: transparent;\n",
              "      border-right-color: var(--fill-color);\n",
              "      border-top-color: var(--fill-color);\n",
              "    }\n",
              "    60% {\n",
              "      border-color: transparent;\n",
              "      border-right-color: var(--fill-color);\n",
              "    }\n",
              "    80% {\n",
              "      border-color: transparent;\n",
              "      border-right-color: var(--fill-color);\n",
              "      border-bottom-color: var(--fill-color);\n",
              "    }\n",
              "    90% {\n",
              "      border-color: transparent;\n",
              "      border-bottom-color: var(--fill-color);\n",
              "    }\n",
              "  }\n",
              "</style>\n",
              "\n",
              "  <script>\n",
              "    async function quickchart(key) {\n",
              "      const quickchartButtonEl =\n",
              "        document.querySelector('#' + key + ' button');\n",
              "      quickchartButtonEl.disabled = true;  // To prevent multiple clicks.\n",
              "      quickchartButtonEl.classList.add('colab-df-spinner');\n",
              "      try {\n",
              "        const charts = await google.colab.kernel.invokeFunction(\n",
              "            'suggestCharts', [key], {});\n",
              "      } catch (error) {\n",
              "        console.error('Error during call to suggestCharts:', error);\n",
              "      }\n",
              "      quickchartButtonEl.classList.remove('colab-df-spinner');\n",
              "      quickchartButtonEl.classList.add('colab-df-quickchart-complete');\n",
              "    }\n",
              "    (() => {\n",
              "      let quickchartButtonEl =\n",
              "        document.querySelector('#df-83277d6b-f326-4d27-b6d6-7c70e3fe5246 button');\n",
              "      quickchartButtonEl.style.display =\n",
              "        google.colab.kernel.accessAllowed ? 'block' : 'none';\n",
              "    })();\n",
              "  </script>\n",
              "</div>\n",
              "    </div>\n",
              "  </div>\n"
            ]
          },
          "metadata": {},
          "execution_count": 13
        }
      ],
      "source": [
        "### WRITE CODE TO OBTAIN CORRELATION MATRIX ###\n",
        "df.drop(columns=['Year', 'Status']).corr()"
      ]
    },
    {
      "cell_type": "markdown",
      "metadata": {
        "id": "jYvGzY8Z-ni-"
      },
      "source": [
        "### Standardization of features"
      ]
    },
    {
      "cell_type": "markdown",
      "metadata": {
        "id": "Jhq-T3Ed-r8w"
      },
      "source": [
        "Feature standardization makes the values of each feature in the data have zero-mean and unit-variance. This method is widely used for normalization in many machine learning algorithms. The general method of calculation is to determine the distribution mean and standard deviation for each feature. Next we subtract the mean from each feature. Then we divide the values of each feature by its standard deviation.\n",
        "\n",
        "$x'$ = ($x$ - $\\bar{x}$)/$\\sigma$\n",
        "\n",
        "where $x$ is the original feature vector,\n",
        "$\\bar{x}$ is the mean of the feature vector and\n",
        "$\\sigma$ is its standard deviation.\n",
        "\n",
        "This is also called Z-score Normalization.\n",
        "\n",
        "Perform Z-score Normalization on the features (except \"Year\" and \"Status\") in both training and test set."
      ]
    },
    {
      "cell_type": "code",
      "execution_count": null,
      "metadata": {
        "id": "B0bEEUdhDbW5"
      },
      "outputs": [],
      "source": [
        "# dft = pd.read_csv(io.BytesIO(uploaded['LifeExpectancy_test.csv']))\n",
        "dft = pd.read_csv('LifeExpectancy_test_modified.csv')"
      ]
    },
    {
      "cell_type": "code",
      "execution_count": null,
      "metadata": {
        "id": "a8Hu-t4eBphh"
      },
      "outputs": [],
      "source": [
        "from sklearn.preprocessing import StandardScaler\n",
        "### WRITE CODE TO PERFORM Z-score Normalization ###\n",
        "X = df.loc[:, df.columns != 'Life_expectancy'].copy()\n",
        "X_full = pd.concat([X, dft], axis=0)"
      ]
    },
    {
      "cell_type": "code",
      "execution_count": null,
      "metadata": {
        "id": "nObd2T_9EH4p"
      },
      "outputs": [],
      "source": [
        "scaler = StandardScaler()\n",
        "X_numeric = scaler.fit_transform(\n",
        "    X_full.drop(columns=['Year', 'Status'])) #numpy.ndarray"
      ]
    },
    {
      "cell_type": "markdown",
      "metadata": {
        "id": "5tr1XcvyFIcN"
      },
      "source": [
        "### One-Hot Encoding"
      ]
    },
    {
      "cell_type": "markdown",
      "metadata": {
        "id": "fyyGwM3JFS4Y"
      },
      "source": [
        "\"Year\" and \"Status\" can only take discrete values. We need to perform one-hot encoding on discrete values for it to be processed in the model. One hot encoding is a process by which categorical variables are converted into a form that could be provided to ML algorithms to do a better job in prediction.\n",
        "Perform one-hot encoding on \"Year\" and \"Status\" and print the shape of your encoded array"
      ]
    },
    {
      "cell_type": "code",
      "execution_count": null,
      "metadata": {
        "colab": {
          "base_uri": "https://localhost:8080/"
        },
        "id": "CVbI2IVxFuHn",
        "outputId": "90952f6d-efa9-4b85-847f-096b233b4e1d"
      },
      "outputs": [
        {
          "output_type": "stream",
          "name": "stderr",
          "text": [
            "/usr/local/lib/python3.10/dist-packages/sklearn/preprocessing/_encoders.py:868: FutureWarning: `sparse` was renamed to `sparse_output` in version 1.2 and will be removed in 1.4. `sparse_output` is ignored unless you leave `sparse` to its default value.\n",
            "  warnings.warn(\n",
            "/usr/local/lib/python3.10/dist-packages/sklearn/preprocessing/_encoders.py:868: FutureWarning: `sparse` was renamed to `sparse_output` in version 1.2 and will be removed in 1.4. `sparse_output` is ignored unless you leave `sparse` to its default value.\n",
            "  warnings.warn(\n"
          ]
        }
      ],
      "source": [
        "from sklearn.preprocessing import OneHotEncoder\n",
        "### WRITE CODE TO PERFORM ONE-HOT CODING ON \"Year\" AND \"Status\" ###\n",
        "enc_Year = OneHotEncoder(sparse=False)\n",
        "X_onhot_Year = enc_Year.fit_transform(X_full[['Year']]) #numpy.ndarray\n",
        "enc_Status = OneHotEncoder(sparse=False, drop=['Developed'])\n",
        "X_onhot_Status = enc_Status.fit_transform(X_full[['Status']])"
      ]
    },
    {
      "cell_type": "code",
      "execution_count": null,
      "metadata": {
        "colab": {
          "base_uri": "https://localhost:8080/"
        },
        "id": "az6tGPhOHZaX",
        "outputId": "f18c4c2c-a25a-43b3-e7e9-31e8f4fb36d6"
      },
      "outputs": [
        {
          "output_type": "execute_result",
          "data": {
            "text/plain": [
              "(1064, 27)"
            ]
          },
          "metadata": {},
          "execution_count": 18
        }
      ],
      "source": [
        "X_full_transform = np.concatenate([X_numeric, X_onhot_Year, X_onhot_Status], axis=1)\n",
        "X_train = X_full_transform[:-dft.shape[0],:] #numpy.ndarray\n",
        "X_test = X_full_transform[-dft.shape[0]:,:]  #numpy.ndarray\n",
        "y_train = df[\"Life_expectancy\"] #numpy.ndarray\n",
        "### PRINT THE SHAPE OF YOUR TRAINING SET X ###\n",
        "X_train.shape"
      ]
    },
    {
      "cell_type": "code",
      "execution_count": null,
      "metadata": {
        "colab": {
          "base_uri": "https://localhost:8080/",
          "height": 226
        },
        "id": "s2V_WxZBgK0_",
        "outputId": "ad69899d-8f6d-4236-b225-006d47b96fd4"
      },
      "outputs": [
        {
          "output_type": "execute_result",
          "data": {
            "text/plain": [
              "   Year      Status  Adult_Mortality  Alcohol  percentage_expenditure   BMI  \\\n",
              "0  2011  Developing              275     0.01                7.097109  17.2   \n",
              "1  2008  Developing              287     0.03               25.873925  15.7   \n",
              "2  2011  Developing               88     5.37              437.062100  55.1   \n",
              "3  2005  Developing               15     5.16               26.993121  49.9   \n",
              "4  2003  Developing               18     4.29               14.719289  47.9   \n",
              "\n",
              "   Total_expenditure  Diphtheria  HIV_AIDS          GDP  Population  \\\n",
              "0               7.87          68       0.1    63.537231   2978599.0   \n",
              "1               8.33          64       0.1   373.361116   2729431.0   \n",
              "2               5.71          99       0.1  4437.178680    295195.0   \n",
              "3               6.12          98       0.1   279.142931    311487.0   \n",
              "4               6.27          97       0.1   189.681557    339616.0   \n",
              "\n",
              "   Income_composition_of_resources  Health_Index  Schooling  \n",
              "0                            0.454      0.960279        9.5  \n",
              "1                            0.433      0.655069        8.7  \n",
              "2                            0.738      0.746627       13.3  \n",
              "3                            0.685      0.527981       10.8  \n",
              "4                            0.674      0.336332       10.7  "
            ],
            "text/html": [
              "\n",
              "  <div id=\"df-344e0a81-75c6-4310-984b-f1be419f9705\" class=\"colab-df-container\">\n",
              "    <div>\n",
              "<style scoped>\n",
              "    .dataframe tbody tr th:only-of-type {\n",
              "        vertical-align: middle;\n",
              "    }\n",
              "\n",
              "    .dataframe tbody tr th {\n",
              "        vertical-align: top;\n",
              "    }\n",
              "\n",
              "    .dataframe thead th {\n",
              "        text-align: right;\n",
              "    }\n",
              "</style>\n",
              "<table border=\"1\" class=\"dataframe\">\n",
              "  <thead>\n",
              "    <tr style=\"text-align: right;\">\n",
              "      <th></th>\n",
              "      <th>Year</th>\n",
              "      <th>Status</th>\n",
              "      <th>Adult_Mortality</th>\n",
              "      <th>Alcohol</th>\n",
              "      <th>percentage_expenditure</th>\n",
              "      <th>BMI</th>\n",
              "      <th>Total_expenditure</th>\n",
              "      <th>Diphtheria</th>\n",
              "      <th>HIV_AIDS</th>\n",
              "      <th>GDP</th>\n",
              "      <th>Population</th>\n",
              "      <th>Income_composition_of_resources</th>\n",
              "      <th>Health_Index</th>\n",
              "      <th>Schooling</th>\n",
              "    </tr>\n",
              "  </thead>\n",
              "  <tbody>\n",
              "    <tr>\n",
              "      <th>0</th>\n",
              "      <td>2011</td>\n",
              "      <td>Developing</td>\n",
              "      <td>275</td>\n",
              "      <td>0.01</td>\n",
              "      <td>7.097109</td>\n",
              "      <td>17.2</td>\n",
              "      <td>7.87</td>\n",
              "      <td>68</td>\n",
              "      <td>0.1</td>\n",
              "      <td>63.537231</td>\n",
              "      <td>2978599.0</td>\n",
              "      <td>0.454</td>\n",
              "      <td>0.960279</td>\n",
              "      <td>9.5</td>\n",
              "    </tr>\n",
              "    <tr>\n",
              "      <th>1</th>\n",
              "      <td>2008</td>\n",
              "      <td>Developing</td>\n",
              "      <td>287</td>\n",
              "      <td>0.03</td>\n",
              "      <td>25.873925</td>\n",
              "      <td>15.7</td>\n",
              "      <td>8.33</td>\n",
              "      <td>64</td>\n",
              "      <td>0.1</td>\n",
              "      <td>373.361116</td>\n",
              "      <td>2729431.0</td>\n",
              "      <td>0.433</td>\n",
              "      <td>0.655069</td>\n",
              "      <td>8.7</td>\n",
              "    </tr>\n",
              "    <tr>\n",
              "      <th>2</th>\n",
              "      <td>2011</td>\n",
              "      <td>Developing</td>\n",
              "      <td>88</td>\n",
              "      <td>5.37</td>\n",
              "      <td>437.062100</td>\n",
              "      <td>55.1</td>\n",
              "      <td>5.71</td>\n",
              "      <td>99</td>\n",
              "      <td>0.1</td>\n",
              "      <td>4437.178680</td>\n",
              "      <td>295195.0</td>\n",
              "      <td>0.738</td>\n",
              "      <td>0.746627</td>\n",
              "      <td>13.3</td>\n",
              "    </tr>\n",
              "    <tr>\n",
              "      <th>3</th>\n",
              "      <td>2005</td>\n",
              "      <td>Developing</td>\n",
              "      <td>15</td>\n",
              "      <td>5.16</td>\n",
              "      <td>26.993121</td>\n",
              "      <td>49.9</td>\n",
              "      <td>6.12</td>\n",
              "      <td>98</td>\n",
              "      <td>0.1</td>\n",
              "      <td>279.142931</td>\n",
              "      <td>311487.0</td>\n",
              "      <td>0.685</td>\n",
              "      <td>0.527981</td>\n",
              "      <td>10.8</td>\n",
              "    </tr>\n",
              "    <tr>\n",
              "      <th>4</th>\n",
              "      <td>2003</td>\n",
              "      <td>Developing</td>\n",
              "      <td>18</td>\n",
              "      <td>4.29</td>\n",
              "      <td>14.719289</td>\n",
              "      <td>47.9</td>\n",
              "      <td>6.27</td>\n",
              "      <td>97</td>\n",
              "      <td>0.1</td>\n",
              "      <td>189.681557</td>\n",
              "      <td>339616.0</td>\n",
              "      <td>0.674</td>\n",
              "      <td>0.336332</td>\n",
              "      <td>10.7</td>\n",
              "    </tr>\n",
              "  </tbody>\n",
              "</table>\n",
              "</div>\n",
              "    <div class=\"colab-df-buttons\">\n",
              "\n",
              "  <div class=\"colab-df-container\">\n",
              "    <button class=\"colab-df-convert\" onclick=\"convertToInteractive('df-344e0a81-75c6-4310-984b-f1be419f9705')\"\n",
              "            title=\"Convert this dataframe to an interactive table.\"\n",
              "            style=\"display:none;\">\n",
              "\n",
              "  <svg xmlns=\"http://www.w3.org/2000/svg\" height=\"24px\" viewBox=\"0 -960 960 960\">\n",
              "    <path d=\"M120-120v-720h720v720H120Zm60-500h600v-160H180v160Zm220 220h160v-160H400v160Zm0 220h160v-160H400v160ZM180-400h160v-160H180v160Zm440 0h160v-160H620v160ZM180-180h160v-160H180v160Zm440 0h160v-160H620v160Z\"/>\n",
              "  </svg>\n",
              "    </button>\n",
              "\n",
              "  <style>\n",
              "    .colab-df-container {\n",
              "      display:flex;\n",
              "      gap: 12px;\n",
              "    }\n",
              "\n",
              "    .colab-df-convert {\n",
              "      background-color: #E8F0FE;\n",
              "      border: none;\n",
              "      border-radius: 50%;\n",
              "      cursor: pointer;\n",
              "      display: none;\n",
              "      fill: #1967D2;\n",
              "      height: 32px;\n",
              "      padding: 0 0 0 0;\n",
              "      width: 32px;\n",
              "    }\n",
              "\n",
              "    .colab-df-convert:hover {\n",
              "      background-color: #E2EBFA;\n",
              "      box-shadow: 0px 1px 2px rgba(60, 64, 67, 0.3), 0px 1px 3px 1px rgba(60, 64, 67, 0.15);\n",
              "      fill: #174EA6;\n",
              "    }\n",
              "\n",
              "    .colab-df-buttons div {\n",
              "      margin-bottom: 4px;\n",
              "    }\n",
              "\n",
              "    [theme=dark] .colab-df-convert {\n",
              "      background-color: #3B4455;\n",
              "      fill: #D2E3FC;\n",
              "    }\n",
              "\n",
              "    [theme=dark] .colab-df-convert:hover {\n",
              "      background-color: #434B5C;\n",
              "      box-shadow: 0px 1px 3px 1px rgba(0, 0, 0, 0.15);\n",
              "      filter: drop-shadow(0px 1px 2px rgba(0, 0, 0, 0.3));\n",
              "      fill: #FFFFFF;\n",
              "    }\n",
              "  </style>\n",
              "\n",
              "    <script>\n",
              "      const buttonEl =\n",
              "        document.querySelector('#df-344e0a81-75c6-4310-984b-f1be419f9705 button.colab-df-convert');\n",
              "      buttonEl.style.display =\n",
              "        google.colab.kernel.accessAllowed ? 'block' : 'none';\n",
              "\n",
              "      async function convertToInteractive(key) {\n",
              "        const element = document.querySelector('#df-344e0a81-75c6-4310-984b-f1be419f9705');\n",
              "        const dataTable =\n",
              "          await google.colab.kernel.invokeFunction('convertToInteractive',\n",
              "                                                    [key], {});\n",
              "        if (!dataTable) return;\n",
              "\n",
              "        const docLinkHtml = 'Like what you see? Visit the ' +\n",
              "          '<a target=\"_blank\" href=https://colab.research.google.com/notebooks/data_table.ipynb>data table notebook</a>'\n",
              "          + ' to learn more about interactive tables.';\n",
              "        element.innerHTML = '';\n",
              "        dataTable['output_type'] = 'display_data';\n",
              "        await google.colab.output.renderOutput(dataTable, element);\n",
              "        const docLink = document.createElement('div');\n",
              "        docLink.innerHTML = docLinkHtml;\n",
              "        element.appendChild(docLink);\n",
              "      }\n",
              "    </script>\n",
              "  </div>\n",
              "\n",
              "\n",
              "<div id=\"df-fdd2170c-317a-40a2-826a-1e9acd7339b4\">\n",
              "  <button class=\"colab-df-quickchart\" onclick=\"quickchart('df-fdd2170c-317a-40a2-826a-1e9acd7339b4')\"\n",
              "            title=\"Suggest charts\"\n",
              "            style=\"display:none;\">\n",
              "\n",
              "<svg xmlns=\"http://www.w3.org/2000/svg\" height=\"24px\"viewBox=\"0 0 24 24\"\n",
              "     width=\"24px\">\n",
              "    <g>\n",
              "        <path d=\"M19 3H5c-1.1 0-2 .9-2 2v14c0 1.1.9 2 2 2h14c1.1 0 2-.9 2-2V5c0-1.1-.9-2-2-2zM9 17H7v-7h2v7zm4 0h-2V7h2v10zm4 0h-2v-4h2v4z\"/>\n",
              "    </g>\n",
              "</svg>\n",
              "  </button>\n",
              "\n",
              "<style>\n",
              "  .colab-df-quickchart {\n",
              "      --bg-color: #E8F0FE;\n",
              "      --fill-color: #1967D2;\n",
              "      --hover-bg-color: #E2EBFA;\n",
              "      --hover-fill-color: #174EA6;\n",
              "      --disabled-fill-color: #AAA;\n",
              "      --disabled-bg-color: #DDD;\n",
              "  }\n",
              "\n",
              "  [theme=dark] .colab-df-quickchart {\n",
              "      --bg-color: #3B4455;\n",
              "      --fill-color: #D2E3FC;\n",
              "      --hover-bg-color: #434B5C;\n",
              "      --hover-fill-color: #FFFFFF;\n",
              "      --disabled-bg-color: #3B4455;\n",
              "      --disabled-fill-color: #666;\n",
              "  }\n",
              "\n",
              "  .colab-df-quickchart {\n",
              "    background-color: var(--bg-color);\n",
              "    border: none;\n",
              "    border-radius: 50%;\n",
              "    cursor: pointer;\n",
              "    display: none;\n",
              "    fill: var(--fill-color);\n",
              "    height: 32px;\n",
              "    padding: 0;\n",
              "    width: 32px;\n",
              "  }\n",
              "\n",
              "  .colab-df-quickchart:hover {\n",
              "    background-color: var(--hover-bg-color);\n",
              "    box-shadow: 0 1px 2px rgba(60, 64, 67, 0.3), 0 1px 3px 1px rgba(60, 64, 67, 0.15);\n",
              "    fill: var(--button-hover-fill-color);\n",
              "  }\n",
              "\n",
              "  .colab-df-quickchart-complete:disabled,\n",
              "  .colab-df-quickchart-complete:disabled:hover {\n",
              "    background-color: var(--disabled-bg-color);\n",
              "    fill: var(--disabled-fill-color);\n",
              "    box-shadow: none;\n",
              "  }\n",
              "\n",
              "  .colab-df-spinner {\n",
              "    border: 2px solid var(--fill-color);\n",
              "    border-color: transparent;\n",
              "    border-bottom-color: var(--fill-color);\n",
              "    animation:\n",
              "      spin 1s steps(1) infinite;\n",
              "  }\n",
              "\n",
              "  @keyframes spin {\n",
              "    0% {\n",
              "      border-color: transparent;\n",
              "      border-bottom-color: var(--fill-color);\n",
              "      border-left-color: var(--fill-color);\n",
              "    }\n",
              "    20% {\n",
              "      border-color: transparent;\n",
              "      border-left-color: var(--fill-color);\n",
              "      border-top-color: var(--fill-color);\n",
              "    }\n",
              "    30% {\n",
              "      border-color: transparent;\n",
              "      border-left-color: var(--fill-color);\n",
              "      border-top-color: var(--fill-color);\n",
              "      border-right-color: var(--fill-color);\n",
              "    }\n",
              "    40% {\n",
              "      border-color: transparent;\n",
              "      border-right-color: var(--fill-color);\n",
              "      border-top-color: var(--fill-color);\n",
              "    }\n",
              "    60% {\n",
              "      border-color: transparent;\n",
              "      border-right-color: var(--fill-color);\n",
              "    }\n",
              "    80% {\n",
              "      border-color: transparent;\n",
              "      border-right-color: var(--fill-color);\n",
              "      border-bottom-color: var(--fill-color);\n",
              "    }\n",
              "    90% {\n",
              "      border-color: transparent;\n",
              "      border-bottom-color: var(--fill-color);\n",
              "    }\n",
              "  }\n",
              "</style>\n",
              "\n",
              "  <script>\n",
              "    async function quickchart(key) {\n",
              "      const quickchartButtonEl =\n",
              "        document.querySelector('#' + key + ' button');\n",
              "      quickchartButtonEl.disabled = true;  // To prevent multiple clicks.\n",
              "      quickchartButtonEl.classList.add('colab-df-spinner');\n",
              "      try {\n",
              "        const charts = await google.colab.kernel.invokeFunction(\n",
              "            'suggestCharts', [key], {});\n",
              "      } catch (error) {\n",
              "        console.error('Error during call to suggestCharts:', error);\n",
              "      }\n",
              "      quickchartButtonEl.classList.remove('colab-df-spinner');\n",
              "      quickchartButtonEl.classList.add('colab-df-quickchart-complete');\n",
              "    }\n",
              "    (() => {\n",
              "      let quickchartButtonEl =\n",
              "        document.querySelector('#df-fdd2170c-317a-40a2-826a-1e9acd7339b4 button');\n",
              "      quickchartButtonEl.style.display =\n",
              "        google.colab.kernel.accessAllowed ? 'block' : 'none';\n",
              "    })();\n",
              "  </script>\n",
              "</div>\n",
              "    </div>\n",
              "  </div>\n"
            ]
          },
          "metadata": {},
          "execution_count": 19
        }
      ],
      "source": [
        "dft.head()"
      ]
    },
    {
      "cell_type": "markdown",
      "metadata": {
        "id": "IvbDqp5bJ-Xx"
      },
      "source": [
        "Q7. What are the other types of encodings and why did we use One-hot encoding for \"Year\" and \"Status\"?\n",
        "\n",
        "Ans- Label Encoding, Ordinal Encoding, Target Encoding, and Binary Encoding;  \"Year\" and \"Status\" variables are nominal categories and One-hot encoding ensures that fetures does not assume that higher numbers are more important."
      ]
    },
    {
      "cell_type": "markdown",
      "metadata": {
        "id": "Fp5S0WizKI0g"
      },
      "source": [
        "## Multiple Linear Regression\n",
        "\n",
        "In the big data era, it is highly unlikely that we are interested in the effect of a single variable on another. To simultaneously account for the effects of multiple variables, we use multiple regression (which accounts for the covariances between predictors).\n",
        "\n",
        "While the algorithmic solution to multiple regression exists, it is easier to conceptualize in terms of linear algebra. The optimal $\\hat{\\beta}$ vector that minimizes the residual sum of squares is:\n",
        "\n",
        "$\\hat{\\beta} = (X^TX)^{-1}X^Ty $\n",
        "\n",
        "\n",
        "Perform multiple linear regression on the training dataset, where the outcome is \"Life_expectancy\"."
      ]
    },
    {
      "cell_type": "code",
      "execution_count": null,
      "metadata": {
        "id": "3-saM1rTKjKH"
      },
      "outputs": [],
      "source": [
        "from sklearn.linear_model import LinearRegression"
      ]
    },
    {
      "cell_type": "code",
      "execution_count": null,
      "metadata": {
        "id": "GTfbR3b-KoeW"
      },
      "outputs": [],
      "source": [
        "### Fit the Multiple Linear Regression model on training set ###\n",
        "lr_model = LinearRegression()\n",
        "lr_model.fit(X_train, y_train)\n",
        "\n",
        "y_pred_train = lr_model.predict(X_train)\n",
        "y_pred_test = lr_model.predict(X_test)"
      ]
    },
    {
      "cell_type": "code",
      "execution_count": null,
      "metadata": {
        "id": "nvk3pSVFOG17"
      },
      "outputs": [],
      "source": [
        "# y_test = pd.read_csv(io.BytesIO(uploaded['LifeExpectancy_ytest.csv']))\n",
        "y_test = pd.read_csv('LifeExpectancy_ytest_modified.csv')"
      ]
    },
    {
      "cell_type": "code",
      "execution_count": null,
      "metadata": {
        "colab": {
          "base_uri": "https://localhost:8080/"
        },
        "id": "FpQe-p3LLXgA",
        "outputId": "c76ad578-8f43-4009-d9fe-8881828d2316"
      },
      "outputs": [
        {
          "output_type": "stream",
          "name": "stdout",
          "text": [
            "Training MSE: 12.747314971108775\n",
            "Test MSE: 13.914847989831298\n"
          ]
        }
      ],
      "source": [
        "### Evaluate the Linear Regression model by computing MSE on both training set and test set ###\n",
        "from sklearn.metrics import mean_squared_error\n",
        "mse_train = mean_squared_error(y_train, y_pred_train)\n",
        "mse_test = mean_squared_error(y_test, y_pred_test)\n",
        "\n",
        "print('Training MSE: {}'.format(mse_train))\n",
        "print('Test MSE: {}'.format(mse_test))"
      ]
    },
    {
      "cell_type": "code",
      "execution_count": null,
      "metadata": {
        "colab": {
          "base_uri": "https://localhost:8080/"
        },
        "id": "OsPlSowUPK_-",
        "outputId": "815aac93-3841-43b7-f2e3-b659ef6057ce"
      },
      "outputs": [
        {
          "output_type": "stream",
          "name": "stdout",
          "text": [
            "[-2.06829411 -0.49025663  0.59494515  0.70440815  0.25495399  0.51766529\n",
            " -2.84196366  0.14913411 -0.06395167  2.15261669  2.63427779  0.25058011\n",
            "  0.55633889  0.8942586   0.56104421  0.57867056  0.28113869  0.22511998\n",
            " -0.09797239 -0.40550117 -0.55842329 -0.78168663 -0.71691738 -0.85083851\n",
            " -0.85742573  1.17219418 -0.63091377]\n"
          ]
        }
      ],
      "source": [
        "print(lr_model.coef_)"
      ]
    },
    {
      "cell_type": "code",
      "execution_count": null,
      "metadata": {
        "colab": {
          "base_uri": "https://localhost:8080/"
        },
        "id": "Uy-sRqS6QlCn",
        "outputId": "5fe1bb45-6245-4b4c-a6ff-71db9613fcca"
      },
      "outputs": [
        {
          "output_type": "stream",
          "name": "stdout",
          "text": [
            "['Adult_Mortality', 'Alcohol', 'percentage_expenditure', 'BMI', 'Total_expenditure', 'Diphtheria', 'HIV_AIDS', 'GDP', 'Population', 'Income_composition_of_resources', 'Schooling', 'Health_Index', 'Year_2002', 'Year_2003', 'Year_2004', 'Year_2005', 'Year_2006', 'Year_2007', 'Year_2008', 'Year_2009', 'Year_2010', 'Year_2011', 'Year_2012', 'Year_2013', 'Year_2014', 'Year_2015', 'Status_Developing']\n"
          ]
        }
      ],
      "source": [
        "X_numeric_name=list(X_full.drop(columns=['Year', 'Status'])) #the corresponding variable names for the linear regression coefficients\n",
        "X_numeric_name.extend(['Year_2002','Year_2003','Year_2004','Year_2005','Year_2006','Year_2007','Year_2008','Year_2009','Year_2010','Year_2011','Year_2012','Year_2013','Year_2014','Year_2015','Status_Developing'])\n",
        "print(X_numeric_name)"
      ]
    },
    {
      "cell_type": "markdown",
      "metadata": {
        "id": "q18iLjtHX25r"
      },
      "source": [
        "GDP and percentage_expenditure exhibit high correlation. Schooling and Income_composition_of_resources also exhibit high correlation.\n",
        "It may be useful to remove one of them and observe the results."
      ]
    },
    {
      "cell_type": "markdown",
      "metadata": {
        "id": "FJ51d6d2YyPp"
      },
      "source": [
        "### Goodness of fit\n",
        "\n",
        "A model can always make predictions. But it is important to determine how good the model is.\n",
        "How do we know that our model captures the data well? When evaluating model fit, a good metric is $R^2$, which corresponds to the amount of variance explained by the model. The formula for $R^2$ is the following:\n",
        "\n",
        "$R^2$ = $1 - \\dfrac{RSS}{TSS}$<br/>\n",
        "where:<br/>\n",
        "$RSS = \\Sigma(y - \\hat{y})^2$<br/>\n",
        "$TSS = \\Sigma(y - \\bar{y})^2$<br/>\n",
        "\n",
        "$R^2$ is also one metric for comparing models against each other. It is intuitive to say that the model that explains more variation in the data is a better fit than one that explains less variation.\n",
        "\n",
        "Fill in the code for calculation of R2 score"
      ]
    },
    {
      "cell_type": "code",
      "execution_count": null,
      "metadata": {
        "id": "Hr0giuHXY4J5"
      },
      "outputs": [],
      "source": [
        "from sklearn.metrics import r2_score"
      ]
    },
    {
      "cell_type": "markdown",
      "metadata": {
        "id": "kFiC_mfgY7m1"
      },
      "source": [
        "$R^2$ for model with \"Schooling\" as predictor and \"Life_expectancy\" as outcome"
      ]
    },
    {
      "cell_type": "code",
      "execution_count": null,
      "metadata": {
        "colab": {
          "base_uri": "https://localhost:8080/"
        },
        "id": "LIspp_FPaicb",
        "outputId": "ed2b70a9-260e-47f6-db3d-7b080039caf8"
      },
      "outputs": [
        {
          "output_type": "stream",
          "name": "stdout",
          "text": [
            "0.5702238510104203\n"
          ]
        }
      ],
      "source": [
        "x1 = df[\"Schooling\"].values.reshape(-1,1)\n",
        "y1 = df[\"Life_expectancy\"].values.reshape(-1,1)\n",
        "slr_model = LinearRegression()\n",
        "slr_model.fit(x1, y1)\n",
        "y_pred1 = slr_model.predict(x1)\n",
        "r1=r2_score(y1, y_pred1)\n",
        "# Print R2 score\n",
        "print(r1)"
      ]
    },
    {
      "cell_type": "markdown",
      "metadata": {
        "id": "5fGTnWcobCc_"
      },
      "source": [
        "$R^2$ for model with \"Schooling\", \"Adult_Mortality\" as predictor and \"Life_expectancy\" as outcome"
      ]
    },
    {
      "cell_type": "code",
      "execution_count": null,
      "metadata": {
        "colab": {
          "base_uri": "https://localhost:8080/"
        },
        "id": "XqBXqRZlbjy7",
        "outputId": "d6a8362c-ecc7-46af-8c7b-60160fb5b85b"
      },
      "outputs": [
        {
          "output_type": "stream",
          "name": "stdout",
          "text": [
            "0.7248288890984036\n"
          ]
        }
      ],
      "source": [
        "x2 = df[[\"Schooling\", \"Adult_Mortality\"]].values\n",
        "y1 = df[\"Life_expectancy\"].values.reshape(-1,1)\n",
        "slr_model = LinearRegression()\n",
        "slr_model.fit(x2, y1)\n",
        "y_pred2 = slr_model.predict(x2)\n",
        "r2=r2_score(y1, y_pred2)\n",
        "# Print R2 score\n",
        "print(r2)"
      ]
    },
    {
      "cell_type": "markdown",
      "metadata": {
        "id": "dE1PDtR0bVdX"
      },
      "source": [
        "$R^2$ for model with \"Schooling\",\"Adult_Mortality\" and \"Population\" as predictor and \"Life_expectancy\" as outcome"
      ]
    },
    {
      "cell_type": "code",
      "execution_count": null,
      "metadata": {
        "colab": {
          "base_uri": "https://localhost:8080/"
        },
        "id": "5WxDGrKqbyR2",
        "outputId": "fbb62573-d150-4cd9-b950-1c865c9a2504"
      },
      "outputs": [
        {
          "output_type": "stream",
          "name": "stdout",
          "text": [
            "0.7248514023230492\n"
          ]
        }
      ],
      "source": [
        "x3 = df[[\"Schooling\", \"Adult_Mortality\",\"Population\"]].values\n",
        "y1 = df[\"Life_expectancy\"].values.reshape(-1,1)\n",
        "slr_model = LinearRegression()\n",
        "slr_model.fit(x3, y1)\n",
        "y_pred3 = slr_model.predict(x3)\n",
        "r3=r2_score(y1, y_pred3)\n",
        "# Print R2 score\n",
        "print(r3)"
      ]
    },
    {
      "cell_type": "markdown",
      "metadata": {
        "id": "CCqEwoDNcOgb"
      },
      "source": [
        "Adjusted $R^2$ for model with \"Schooling\" as predictor and \"Life_expectancy\" as outcome"
      ]
    },
    {
      "cell_type": "code",
      "execution_count": null,
      "metadata": {
        "colab": {
          "base_uri": "https://localhost:8080/"
        },
        "id": "mCgTtpskch0n",
        "outputId": "b5b89804-e8fd-4683-e9da-5445844e02bc"
      },
      "outputs": [
        {
          "output_type": "stream",
          "name": "stdout",
          "text": [
            "0.5698191653710705\n"
          ]
        }
      ],
      "source": [
        "adj_r2 = (1 - (1 - r1) * ((x1.shape[0] - 1) /\n",
        "          (x1.shape[0] - x1.shape[1] - 1)))\n",
        "# Print Adjusted R2 score\n",
        "print(adj_r2)"
      ]
    },
    {
      "cell_type": "markdown",
      "metadata": {
        "id": "cKLKf_ODc842"
      },
      "source": [
        "Adjusted $R^2$ for model with \"Schooling\", \"Adult_Mortality\" as predictor and \"Life_expectancy\" as outcome."
      ]
    },
    {
      "cell_type": "code",
      "execution_count": null,
      "metadata": {
        "colab": {
          "base_uri": "https://localhost:8080/"
        },
        "id": "n6j0eaIxdFoD",
        "outputId": "7587eabb-f936-4428-faed-cb42d9f60adb"
      },
      "outputs": [
        {
          "output_type": "stream",
          "name": "stdout",
          "text": [
            "0.7243101876640934\n"
          ]
        }
      ],
      "source": [
        "adj_r2 = (1 - (1 - r2) * ((x2.shape[0] - 1) /\n",
        "          (x2.shape[0] - x2.shape[1] - 1)))\n",
        "# Print Adjusted R2 score\n",
        "print(adj_r2)"
      ]
    },
    {
      "cell_type": "markdown",
      "metadata": {
        "id": "R3oT1NbDdRcK"
      },
      "source": [
        "Adjusted $R^2$ for model with \"Schooling\",\"Adult_Mortality\" and \"Population\" as predictor and \"Life_expectancy\" as outcome"
      ]
    },
    {
      "cell_type": "code",
      "execution_count": null,
      "metadata": {
        "colab": {
          "base_uri": "https://localhost:8080/"
        },
        "id": "KLOFJL2LdVEz",
        "outputId": "fe69e338-a90a-4db0-aba1-6a7ad0d4e893"
      },
      "outputs": [
        {
          "output_type": "stream",
          "name": "stdout",
          "text": [
            "0.7240726798767938\n"
          ]
        }
      ],
      "source": [
        "adj_r2 = (1 - (1 - r3) * ((x3.shape[0] - 1) /\n",
        "          (x3.shape[0] - x3.shape[1] - 1)))\n",
        "# Print Adjusted R2 score\n",
        "print(adj_r2)"
      ]
    },
    {
      "cell_type": "markdown",
      "metadata": {
        "id": "HDHU67n8d4x7"
      },
      "source": [
        "### K-fold Cross-Validation"
      ]
    },
    {
      "cell_type": "code",
      "execution_count": null,
      "metadata": {
        "id": "n_uDWdbhJgSa"
      },
      "outputs": [],
      "source": [
        "import random"
      ]
    },
    {
      "cell_type": "code",
      "execution_count": null,
      "metadata": {
        "id": "QnbM2CcZFhWs"
      },
      "outputs": [],
      "source": [
        "# Second design a function to implement 5-fold cross-validation.\n",
        "# The input: training data with features X , training target y, # of folds f.\n",
        "# The output: the average of MSE over the 5 folds.\n",
        "\n",
        "def cross_val_mse(X, y, f):\n",
        "    ### Write your code here ###\n",
        "    cross_mse_val = [] #maintain the MSE for different k'th folds\n",
        "\n",
        "    indices_all = list(range(len(y)))\n",
        "    random.seed(300)\n",
        "    random.shuffle(indices_all)\n",
        "    indices = np.array_split(indices_all, f)\n",
        "\n",
        "    # determine training and validation set\n",
        "    for k in range(f):\n",
        "        train_index = np.setdiff1d(indices_all, indices[k])\n",
        "        X_train_cv = X[train_index]\n",
        "        X_val = X[indices[k]]\n",
        "        y_train_cv = y[train_index]\n",
        "        y_val = y[indices[k]]\n",
        "        # linear regression on all training but k'th fold\n",
        "        lr = LinearRegression()\n",
        "        lr.fit(X_train_cv, y_train_cv)\n",
        "        # calculate the MSE on k'th fold\n",
        "        y_val_pred = lr.predict(X_val)\n",
        "        mse_val = mean_squared_error(y_val, y_val_pred)\n",
        "\n",
        "        cross_mse_val.append(mse_val)\n",
        "\n",
        "    return(np.mean(cross_mse_val))"
      ]
    },
    {
      "cell_type": "code",
      "execution_count": null,
      "metadata": {
        "colab": {
          "base_uri": "https://localhost:8080/"
        },
        "id": "7E_-xS3qIURV",
        "outputId": "4a90b541-640c-4a07-9399-90f8b0dbba71"
      },
      "outputs": [
        {
          "output_type": "execute_result",
          "data": {
            "text/plain": [
              "13.463162625471494"
            ]
          },
          "metadata": {},
          "execution_count": 35
        }
      ],
      "source": [
        "cross_val_mse(X_train, y_train, f=5)"
      ]
    },
    {
      "cell_type": "code",
      "execution_count": null,
      "metadata": {
        "colab": {
          "base_uri": "https://localhost:8080/"
        },
        "id": "ZxURVCdbFuWB",
        "outputId": "b7ca0fb4-3b02-4053-8561-eae62d6ed4dc"
      },
      "outputs": [
        {
          "output_type": "stream",
          "name": "stderr",
          "text": [
            "100%|██████████| 14/14 [08:53<00:00, 38.08s/it]\n"
          ]
        }
      ],
      "source": [
        "# By using your above functions, find the best combination of features, which has the lowest averaged MSE\n",
        "from itertools import combinations\n",
        "from tqdm import tqdm\n",
        "import warnings\n",
        "warnings.filterwarnings(\"ignore\")\n",
        "# List to maintain the different cross-validation MSE scores\n",
        "cross_val_mse_list = []\n",
        "\n",
        "# List to maintain the different combinations of features\n",
        "features = []\n",
        "\n",
        "# Loop to compute the cross-validation MSE of different feature combinations\n",
        "for i in tqdm(range(1, X_full.shape[1]+1)):\n",
        "    comb = combinations(X_full, i)\n",
        "    for fea in comb:\n",
        "        fea = list(fea)\n",
        "        X = X_full[fea]\n",
        "        num_exist=list(set(X.columns) - set(['Year', 'Status']))\n",
        "        cat_exist=list(set(X.columns) & set(['Year', 'Status']))\n",
        "        enc = OneHotEncoder(sparse=False, drop='first')\n",
        "        scaler = StandardScaler()\n",
        "        if num_exist == []:\n",
        "            X_oh = enc.fit_transform(X.drop(num_exist, axis=1))\n",
        "            X_trans = X_oh\n",
        "        elif cat_exist == []:\n",
        "            X_num = scaler.fit_transform(X[num_exist])\n",
        "            X_trans = X_num\n",
        "        else:\n",
        "            X_oh = enc.fit_transform(X.drop(num_exist, axis=1))\n",
        "            X_num = scaler.fit_transform(X[num_exist])\n",
        "            X_trans = np.concatenate([X_num, X_oh], axis=1)\n",
        "        X_train_cro = X_trans[:-dft.shape[0],:] #current training set 2d array\n",
        "        X_test_cro = X_trans[-dft.shape[0]:,:] #current test set\n",
        "        y_train = df[\"Life_expectancy\"]\n",
        "\n",
        "        avg_mse = cross_val_mse(X_train_cro, y_train, f = 5)\n",
        "        cross_val_mse_list.append(avg_mse)\n",
        "        features.append(fea)\n"
      ]
    },
    {
      "cell_type": "code",
      "execution_count": null,
      "metadata": {
        "id": "T3WWuFZ-eGGE",
        "colab": {
          "base_uri": "https://localhost:8080/"
        },
        "outputId": "e6d46920-ea11-4a24-da65-549f33e1d092"
      },
      "outputs": [
        {
          "output_type": "stream",
          "name": "stdout",
          "text": [
            "['Status', 'Adult_Mortality', 'Alcohol', 'percentage_expenditure', 'BMI', 'Total_expenditure', 'Diphtheria', 'HIV_AIDS', 'Income_composition_of_resources', 'Schooling', 'Health_Index']\n"
          ]
        }
      ],
      "source": [
        "# Print a list of the best covariates\n",
        "val, idx = min((val, idx) for (idx, val) in enumerate(cross_val_mse_list))\n",
        "best_feature = features[idx]\n",
        "print(best_feature)\n"
      ]
    },
    {
      "cell_type": "code",
      "execution_count": null,
      "metadata": {
        "colab": {
          "base_uri": "https://localhost:8080/"
        },
        "id": "84o-Ja6htZ-M",
        "outputId": "28669ec5-c1ad-429f-dcf8-85c7f7b2a09f"
      },
      "outputs": [
        {
          "output_type": "execute_result",
          "data": {
            "text/plain": [
              "13.378220023911371"
            ]
          },
          "metadata": {},
          "execution_count": 38
        }
      ],
      "source": [
        "# Print the corresponding mse\n",
        "val"
      ]
    },
    {
      "cell_type": "code",
      "execution_count": null,
      "metadata": {
        "colab": {
          "base_uri": "https://localhost:8080/"
        },
        "id": "tYJ-KOqzuLj2",
        "outputId": "f4c51899-7844-4702-bef7-6e8092f1a333"
      },
      "outputs": [
        {
          "output_type": "stream",
          "name": "stdout",
          "text": [
            "Training MSE: 13.078362534675707\n",
            "Test MSE: 13.897573296351325\n"
          ]
        }
      ],
      "source": [
        "X = X_full[best_feature]\n",
        "num_exist=list(set(X.columns) - set(['Year', 'Status']))\n",
        "cat_exist=list(set(X.columns) & set(['Year', 'Status']))\n",
        "enc = OneHotEncoder(sparse=False, drop='first')\n",
        "scaler = StandardScaler()\n",
        "if num_exist == []:\n",
        "    X_oh = enc.fit_transform(X.drop(num_exist, axis=1))\n",
        "    X_trans = X_oh\n",
        "elif cat_exist == []:\n",
        "    X_num = scaler.fit_transform(X[num_exist])\n",
        "    X_trans = X_num\n",
        "else:\n",
        "    X_oh = enc.fit_transform(X.drop(num_exist, axis=1))\n",
        "    X_num = scaler.fit_transform(X[num_exist])\n",
        "    X_trans = np.concatenate([X_num, X_oh], axis=1)\n",
        "\n",
        "X_train = X_trans[:-dft.shape[0],:]\n",
        "y_train = df[\"Life_expectancy\"]\n",
        "X_test = X_trans[-dft.shape[0]:,:]\n",
        "\n",
        "# Bulding and fitting the Linear Regression model\n",
        "lr_model = LinearRegression()\n",
        "lr_model.fit(X_train, y_train)\n",
        "\n",
        "\n",
        "y_pred_train = lr_model.predict(X_train)\n",
        "y_pred_test = lr_model.predict(X_test)\n",
        "\n",
        "from sklearn.metrics import mean_squared_error\n",
        "mse_train = mean_squared_error(y_train, y_pred_train)\n",
        "mse_test = mean_squared_error(y_test, y_pred_test) #y_test maintain the label for testset\n",
        "\n",
        "# Evaluating the Linear Regression model by computing MSE on test set\n",
        "print('Training MSE: {}'.format(mse_train))\n",
        "print('Test MSE: {}'.format(mse_test))"
      ]
    },
    {
      "cell_type": "code",
      "execution_count": null,
      "metadata": {
        "colab": {
          "base_uri": "https://localhost:8080/"
        },
        "id": "6Fp9aAUcVnpd",
        "outputId": "f4e33ed2-1915-461d-a8b1-b4e14738b46e"
      },
      "outputs": [
        {
          "output_type": "execute_result",
          "data": {
            "text/plain": [
              "(458, 1)"
            ]
          },
          "metadata": {},
          "execution_count": 40
        }
      ],
      "source": [
        "y_test.shape"
      ]
    },
    {
      "cell_type": "code",
      "execution_count": null,
      "metadata": {
        "id": "aPfqPkQ2vbq7"
      },
      "outputs": [],
      "source": [
        "#end"
      ]
    },
    {
      "cell_type": "markdown",
      "metadata": {
        "id": "1GxXPil0iwSP"
      },
      "source": [
        "if we use sklearn.model_selection.cross_val_score:"
      ]
    },
    {
      "cell_type": "code",
      "execution_count": null,
      "metadata": {
        "id": "PrGvvpVHi8Qd"
      },
      "outputs": [],
      "source": [
        "from sklearn.model_selection import cross_val_score\n",
        "from itertools import combinations\n",
        "\n",
        "# List to maintain the different cross-validation MSE scores\n",
        "cross_val_mse_list = []\n",
        "\n",
        "# List to maintain the different combinations of features\n",
        "features = []\n",
        "\n",
        "# Loop to compute the cross-validation MSE of different feature combinations\n",
        "for i in range(1, X_full.shape[1]+1):\n",
        "    comb = combinations(X_full, i)\n",
        "    for fea in comb:\n",
        "        fea = list(fea)\n",
        "        X = X_full[fea]\n",
        "        num_exist=list(set(X.columns) - set(['Year', 'Status']))\n",
        "        cat_exist=list(set(X.columns) & set(['Year', 'Status']))\n",
        "        enc = OneHotEncoder(sparse=False, drop='first')\n",
        "        scaler = StandardScaler()\n",
        "        if num_exist == []:\n",
        "            X_oh = enc.fit_transform(X.drop(num_exist, axis=1))\n",
        "            X_trans = X_oh\n",
        "        elif cat_exist == []:\n",
        "            X_num = scaler.fit_transform(X[num_exist])\n",
        "            X_trans = X_num\n",
        "        else:\n",
        "            X_oh = enc.fit_transform(X.drop(num_exist, axis=1))\n",
        "            X_num = scaler.fit_transform(X[num_exist])\n",
        "            X_trans = np.concatenate([X_num, X_oh], axis=1)\n",
        "        X_train_cro = X_trans[:-dft.shape[0],:] #current training set 2d array\n",
        "        X_test_cro = X_trans[-dft.shape[0]:,:] #current test set\n",
        "        y_train = df[\"Life_expectancy\"]\n",
        "\n",
        "        lr = LinearRegression()\n",
        "        mse = -cross_val_score(lr, X_train_cro, y_train, cv = 5, scoring=('neg_mean_squared_error'))\n",
        "        avg_mse = np.mean(mse)\n",
        "        cross_val_mse_list.append(avg_mse)\n",
        "        features.append(fea)"
      ]
    },
    {
      "cell_type": "code",
      "execution_count": null,
      "metadata": {
        "colab": {
          "base_uri": "https://localhost:8080/"
        },
        "id": "mt4Vyr3Tjp9r",
        "outputId": "6446ade5-a450-4340-87b9-164ea54fc708"
      },
      "outputs": [
        {
          "output_type": "stream",
          "name": "stdout",
          "text": [
            "['Status', 'Adult_Mortality', 'Alcohol', 'percentage_expenditure', 'BMI', 'Total_expenditure', 'Diphtheria', 'HIV_AIDS', 'Income_composition_of_resources', 'Schooling', 'Health_Index']\n"
          ]
        }
      ],
      "source": [
        "# Print a list of the best covariates\n",
        "val, idx = min((val, idx) for (idx, val) in enumerate(cross_val_mse_list))\n",
        "best_feature = features[idx]\n",
        "print(best_feature)"
      ]
    },
    {
      "cell_type": "code",
      "execution_count": null,
      "metadata": {
        "colab": {
          "base_uri": "https://localhost:8080/"
        },
        "id": "D7idUhIvjrDP",
        "outputId": "4b6f85d2-53d9-4030-fd83-280ba9cfa241"
      },
      "outputs": [
        {
          "output_type": "execute_result",
          "data": {
            "text/plain": [
              "13.604338400104826"
            ]
          },
          "metadata": {},
          "execution_count": 44
        }
      ],
      "source": [
        "# Print the corresponding mse\n",
        "val"
      ]
    },
    {
      "cell_type": "code",
      "execution_count": null,
      "metadata": {
        "colab": {
          "base_uri": "https://localhost:8080/"
        },
        "id": "_qHzgFR5juSc",
        "outputId": "1a13a58e-b2e6-430b-d8f4-4721f1381104"
      },
      "outputs": [
        {
          "output_type": "stream",
          "name": "stdout",
          "text": [
            "Training MSE: 13.078362534675707\n",
            "Test MSE: 13.897573296351325\n"
          ]
        }
      ],
      "source": [
        "#on test set\n",
        "X = X_full[best_feature]\n",
        "num_exist=list(set(X.columns) - set(['Year', 'Status']))\n",
        "cat_exist=list(set(X.columns) & set(['Year', 'Status']))\n",
        "enc = OneHotEncoder(sparse=False, drop='first')\n",
        "scaler = StandardScaler()\n",
        "if num_exist == []:\n",
        "    X_oh = enc.fit_transform(X.drop(num_exist, axis=1))\n",
        "    X_trans = X_oh\n",
        "elif cat_exist == []:\n",
        "    X_num = scaler.fit_transform(X[num_exist])\n",
        "    X_trans = X_num\n",
        "else:\n",
        "    X_oh = enc.fit_transform(X.drop(num_exist, axis=1))\n",
        "    X_num = scaler.fit_transform(X[num_exist])\n",
        "    X_trans = np.concatenate([X_num, X_oh], axis=1)\n",
        "\n",
        "X_train = X_trans[:-dft.shape[0],:]\n",
        "y_train = df[\"Life_expectancy\"]\n",
        "X_test = X_trans[-dft.shape[0]:,:]\n",
        "\n",
        "# Bulding and fitting the Linear Regression model\n",
        "lr_model = LinearRegression()\n",
        "lr_model.fit(X_train, y_train)\n",
        "\n",
        "\n",
        "y_pred_train = lr_model.predict(X_train)\n",
        "y_pred_test = lr_model.predict(X_test)\n",
        "\n",
        "from sklearn.metrics import mean_squared_error\n",
        "mse_train = mean_squared_error(y_train, y_pred_train)\n",
        "mse_test = mean_squared_error(y_test, y_pred_test) #y_test maintain the label for testset\n",
        "\n",
        "# Evaluating the Linear Regression model by computing MSE on test set\n",
        "print('Training MSE: {}'.format(mse_train))\n",
        "print('Test MSE: {}'.format(mse_test))"
      ]
    }
  ],
  "metadata": {
    "colab": {
      "provenance": [],
      "include_colab_link": true
    },
    "kernelspec": {
      "display_name": "Python 3",
      "name": "python3"
    },
    "language_info": {
      "name": "python"
    }
  },
  "nbformat": 4,
  "nbformat_minor": 0
}